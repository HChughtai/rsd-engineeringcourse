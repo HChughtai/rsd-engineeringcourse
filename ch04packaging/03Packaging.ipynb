{
 "cells": [
  {
   "cell_type": "markdown",
   "metadata": {},
   "source": [
    "## Packaging"
   ]
  },
  {
   "cell_type": "markdown",
   "metadata": {},
   "source": [
    "\n",
    "Once we've made a working program, we'd like to be able to share it with others.\n",
    "\n",
    "A good cross-platform build tool is the most important thing: you can always\n",
    "have collaborators build from source.\n"
   ]
  },
  {
   "cell_type": "markdown",
   "metadata": {},
   "source": [
    "### Distribution tools"
   ]
  },
  {
   "cell_type": "markdown",
   "metadata": {},
   "source": [
    "Distribution tools allow one to obtain a working copy of someone else's package.\n",
    "\n",
    "- Language-specific tools: \n",
    " - python: PyPI,\n",
    " - ruby: Ruby Gems, \n",
    " - perl: CPAN,\n",
    " - R: CRAN\n",
    " \n",
    "- Platform specific packagers e.g.:\n",
    " - `brew` for MacOS, \n",
    " - `apt`/`yum` for Linux or \n",
    " - [`choco`](https://chocolatey.org/) for Windows."
   ]
  },
  {
   "cell_type": "markdown",
   "metadata": {},
   "source": [
    "### Laying out a project"
   ]
  },
  {
   "cell_type": "markdown",
   "metadata": {},
   "source": [
    "\n",
    "When planning to package a project for distribution, defining a suitable\n",
    "project layout is essential.\n",
    "\n",
    "\n"
   ]
  },
  {
   "cell_type": "code",
   "execution_count": 1,
   "metadata": {
    "collapsed": false
   },
   "outputs": [
    {
     "name": "stdout",
     "output_type": "stream",
     "text": [
      "greetings\n",
      "|-- greetings\n",
      "|   |-- command.py\n",
      "|   |-- greeter.py\n",
      "|   |-- __init__.py\n",
      "|   `-- test\n",
      "|       |-- fixtures\n",
      "|       |   `-- samples.yaml\n",
      "|       |-- __init__.py\n",
      "|       `-- test_greeter.py\n",
      "|-- CITATION.md\n",
      "|-- conf.py\n",
      "|-- index.rst\n",
      "|-- LICENSE.md\n",
      "|-- README.md\n",
      "|-- scripts\n",
      "`-- setup.py\n",
      "\n",
      "6 directories, 12 files\n"
     ]
    }
   ],
   "source": [
    "%%bash\n",
    "tree --charset ascii greetings -I \"doc|build|Greetings.egg-info|dist|*.pyc\""
   ]
  },
  {
   "cell_type": "markdown",
   "metadata": {},
   "source": [
    "We can start by making our directory structure. You can create many nested directories at once using the `-p` switch on `mkdir`."
   ]
  },
  {
   "cell_type": "code",
   "execution_count": 2,
   "metadata": {
    "collapsed": true
   },
   "outputs": [],
   "source": [
    "%%bash\n",
    "mkdir -p greetings/greetings/test/fixtures\n",
    "mkdir -p greetings/scripts"
   ]
  },
  {
   "cell_type": "markdown",
   "metadata": {},
   "source": [
    "### Using setuptools"
   ]
  },
  {
   "cell_type": "markdown",
   "metadata": {},
   "source": [
    "\n",
    "To make python code into a package, we have to write a `setup.py` file:"
   ]
  },
  {
   "cell_type": "markdown",
   "metadata": {},
   "source": [
    "```python\n",
    "from setuptools import setup, find_packages\n",
    "\n",
    "setup(\n",
    "    name=\"Greetings\",\n",
    "    version=\"0.1.0\",\n",
    "    packages=find_packages(exclude=['*test']),\n",
    ")\n",
    "```"
   ]
  },
  {
   "cell_type": "markdown",
   "metadata": {},
   "source": [
    "We can now install this code with"
   ]
  },
  {
   "cell_type": "markdown",
   "metadata": {},
   "source": [
    "```\n",
    "pip install .\n",
    "```"
   ]
  },
  {
   "cell_type": "markdown",
   "metadata": {},
   "source": [
    "\n",
    "And the package will be then available to use everywhere on the system.\n"
   ]
  },
  {
   "cell_type": "code",
   "execution_count": 3,
   "metadata": {
    "collapsed": false
   },
   "outputs": [
    {
     "data": {
      "text/plain": [
       "'Hey, Terry Gilliam.'"
      ]
     },
     "execution_count": 3,
     "metadata": {},
     "output_type": "execute_result"
    }
   ],
   "source": [
    "from greetings.greeter import greet\n",
    "greet(\"Terry\",\"Gilliam\")"
   ]
  },
  {
   "cell_type": "markdown",
   "metadata": {},
   "source": [
    "### Convert the script to a module"
   ]
  },
  {
   "cell_type": "markdown",
   "metadata": {},
   "source": [
    "\n",
    "Of course, there's more to do when taking code from a quick script and turning it into a proper module:"
   ]
  },
  {
   "cell_type": "markdown",
   "metadata": {},
   "source": [
    "We need to add docstrings to our functions, so people can know how to use them."
   ]
  },
  {
   "cell_type": "code",
   "execution_count": 4,
   "metadata": {},
   "outputs": [
    {
     "data": {
      "text/html": [
       "<style>.output_html .hll { background-color: #ffffcc }\n",
       ".output_html  { background: #f8f8f8; }\n",
       ".output_html .c { color: #408080; font-style: italic } /* Comment */\n",
       ".output_html .err { border: 1px solid #FF0000 } /* Error */\n",
       ".output_html .k { color: #008000; font-weight: bold } /* Keyword */\n",
       ".output_html .o { color: #666666 } /* Operator */\n",
       ".output_html .ch { color: #408080; font-style: italic } /* Comment.Hashbang */\n",
       ".output_html .cm { color: #408080; font-style: italic } /* Comment.Multiline */\n",
       ".output_html .cp { color: #BC7A00 } /* Comment.Preproc */\n",
       ".output_html .cpf { color: #408080; font-style: italic } /* Comment.PreprocFile */\n",
       ".output_html .c1 { color: #408080; font-style: italic } /* Comment.Single */\n",
       ".output_html .cs { color: #408080; font-style: italic } /* Comment.Special */\n",
       ".output_html .gd { color: #A00000 } /* Generic.Deleted */\n",
       ".output_html .ge { font-style: italic } /* Generic.Emph */\n",
       ".output_html .gr { color: #FF0000 } /* Generic.Error */\n",
       ".output_html .gh { color: #000080; font-weight: bold } /* Generic.Heading */\n",
       ".output_html .gi { color: #00A000 } /* Generic.Inserted */\n",
       ".output_html .go { color: #888888 } /* Generic.Output */\n",
       ".output_html .gp { color: #000080; font-weight: bold } /* Generic.Prompt */\n",
       ".output_html .gs { font-weight: bold } /* Generic.Strong */\n",
       ".output_html .gu { color: #800080; font-weight: bold } /* Generic.Subheading */\n",
       ".output_html .gt { color: #0044DD } /* Generic.Traceback */\n",
       ".output_html .kc { color: #008000; font-weight: bold } /* Keyword.Constant */\n",
       ".output_html .kd { color: #008000; font-weight: bold } /* Keyword.Declaration */\n",
       ".output_html .kn { color: #008000; font-weight: bold } /* Keyword.Namespace */\n",
       ".output_html .kp { color: #008000 } /* Keyword.Pseudo */\n",
       ".output_html .kr { color: #008000; font-weight: bold } /* Keyword.Reserved */\n",
       ".output_html .kt { color: #B00040 } /* Keyword.Type */\n",
       ".output_html .m { color: #666666 } /* Literal.Number */\n",
       ".output_html .s { color: #BA2121 } /* Literal.String */\n",
       ".output_html .na { color: #7D9029 } /* Name.Attribute */\n",
       ".output_html .nb { color: #008000 } /* Name.Builtin */\n",
       ".output_html .nc { color: #0000FF; font-weight: bold } /* Name.Class */\n",
       ".output_html .no { color: #880000 } /* Name.Constant */\n",
       ".output_html .nd { color: #AA22FF } /* Name.Decorator */\n",
       ".output_html .ni { color: #999999; font-weight: bold } /* Name.Entity */\n",
       ".output_html .ne { color: #D2413A; font-weight: bold } /* Name.Exception */\n",
       ".output_html .nf { color: #0000FF } /* Name.Function */\n",
       ".output_html .nl { color: #A0A000 } /* Name.Label */\n",
       ".output_html .nn { color: #0000FF; font-weight: bold } /* Name.Namespace */\n",
       ".output_html .nt { color: #008000; font-weight: bold } /* Name.Tag */\n",
       ".output_html .nv { color: #19177C } /* Name.Variable */\n",
       ".output_html .ow { color: #AA22FF; font-weight: bold } /* Operator.Word */\n",
       ".output_html .w { color: #bbbbbb } /* Text.Whitespace */\n",
       ".output_html .mb { color: #666666 } /* Literal.Number.Bin */\n",
       ".output_html .mf { color: #666666 } /* Literal.Number.Float */\n",
       ".output_html .mh { color: #666666 } /* Literal.Number.Hex */\n",
       ".output_html .mi { color: #666666 } /* Literal.Number.Integer */\n",
       ".output_html .mo { color: #666666 } /* Literal.Number.Oct */\n",
       ".output_html .sa { color: #BA2121 } /* Literal.String.Affix */\n",
       ".output_html .sb { color: #BA2121 } /* Literal.String.Backtick */\n",
       ".output_html .sc { color: #BA2121 } /* Literal.String.Char */\n",
       ".output_html .dl { color: #BA2121 } /* Literal.String.Delimiter */\n",
       ".output_html .sd { color: #BA2121; font-style: italic } /* Literal.String.Doc */\n",
       ".output_html .s2 { color: #BA2121 } /* Literal.String.Double */\n",
       ".output_html .se { color: #BB6622; font-weight: bold } /* Literal.String.Escape */\n",
       ".output_html .sh { color: #BA2121 } /* Literal.String.Heredoc */\n",
       ".output_html .si { color: #BB6688; font-weight: bold } /* Literal.String.Interpol */\n",
       ".output_html .sx { color: #008000 } /* Literal.String.Other */\n",
       ".output_html .sr { color: #BB6688 } /* Literal.String.Regex */\n",
       ".output_html .s1 { color: #BA2121 } /* Literal.String.Single */\n",
       ".output_html .ss { color: #19177C } /* Literal.String.Symbol */\n",
       ".output_html .bp { color: #008000 } /* Name.Builtin.Pseudo */\n",
       ".output_html .fm { color: #0000FF } /* Name.Function.Magic */\n",
       ".output_html .vc { color: #19177C } /* Name.Variable.Class */\n",
       ".output_html .vg { color: #19177C } /* Name.Variable.Global */\n",
       ".output_html .vi { color: #19177C } /* Name.Variable.Instance */\n",
       ".output_html .vm { color: #19177C } /* Name.Variable.Magic */\n",
       ".output_html .il { color: #666666 } /* Literal.Number.Integer.Long */</style><div class=\"highlight\"><pre><span></span><span class=\"k\">def</span> <span class=\"nf\">greet</span><span class=\"p\">(</span><span class=\"n\">personal</span><span class=\"p\">,</span> <span class=\"n\">family</span><span class=\"p\">,</span> <span class=\"n\">title</span><span class=\"o\">=</span><span class=\"s2\">&quot;&quot;</span><span class=\"p\">,</span> <span class=\"n\">polite</span><span class=\"o\">=</span><span class=\"bp\">False</span><span class=\"p\">):</span>\n",
       "    <span class=\"sd\">&quot;&quot;&quot; Generate a greeting string for a person.</span>\n",
       "\n",
       "<span class=\"sd\">    Parameters</span>\n",
       "<span class=\"sd\">    ----------</span>\n",
       "<span class=\"sd\">    personal: str</span>\n",
       "<span class=\"sd\">        A given name, such as Will or Jean-Luc</span>\n",
       "<span class=\"sd\">    family: str</span>\n",
       "<span class=\"sd\">        A family name, such as Riker or Picard</span>\n",
       "<span class=\"sd\">    title: str</span>\n",
       "<span class=\"sd\">        An optional title, such as Captain or Reverend</span>\n",
       "<span class=\"sd\">    polite: bool</span>\n",
       "<span class=\"sd\">        True for a formal greeting, False for informal.</span>\n",
       "\n",
       "<span class=\"sd\">    Returns</span>\n",
       "<span class=\"sd\">    -------</span>\n",
       "<span class=\"sd\">    string</span>\n",
       "<span class=\"sd\">        An appropriate greeting</span>\n",
       "\n",
       "<span class=\"sd\">    Examples</span>\n",
       "<span class=\"sd\">    --------</span>\n",
       "<span class=\"sd\">    &gt;&gt;&gt; from greetings.greeter import greet</span>\n",
       "<span class=\"sd\">    &gt;&gt;&gt; greet(&quot;Terry&quot;, &quot;Jones&quot;)</span>\n",
       "<span class=\"sd\">    &#39;Hey, Terry Jones.</span>\n",
       "<span class=\"sd\">    &quot;&quot;&quot;</span>\n",
       "\n",
       "    <span class=\"n\">greeting</span> <span class=\"o\">=</span> <span class=\"s2\">&quot;How do you do, &quot;</span> <span class=\"k\">if</span> <span class=\"n\">polite</span> <span class=\"k\">else</span> <span class=\"s2\">&quot;Hey, &quot;</span>\n",
       "    <span class=\"k\">if</span> <span class=\"n\">title</span><span class=\"p\">:</span>\n",
       "        <span class=\"n\">greeting</span> <span class=\"o\">+=</span> <span class=\"n\">f</span><span class=\"s2\">&quot;{title} &quot;</span>\n",
       "\n",
       "    <span class=\"n\">greeting</span> <span class=\"o\">+=</span> <span class=\"n\">f</span><span class=\"s2\">&quot;{personal} {family}.&quot;</span>\n",
       "    <span class=\"k\">return</span> <span class=\"n\">greeting</span>\n",
       "</pre></div>\n"
      ],
      "text/latex": [
       "\\begin{Verbatim}[commandchars=\\\\\\{\\}]\n",
       "\\PY{k}{def} \\PY{n+nf}{greet}\\PY{p}{(}\\PY{n}{personal}\\PY{p}{,} \\PY{n}{family}\\PY{p}{,} \\PY{n}{title}\\PY{o}{=}\\PY{l+s+s2}{\\PYZdq{}}\\PY{l+s+s2}{\\PYZdq{}}\\PY{p}{,} \\PY{n}{polite}\\PY{o}{=}\\PY{n+nb+bp}{False}\\PY{p}{)}\\PY{p}{:}\n",
       "    \\PY{l+s+sd}{\\PYZdq{}\\PYZdq{}\\PYZdq{} Generate a greeting string for a person.}\n",
       "\n",
       "\\PY{l+s+sd}{    Parameters}\n",
       "\\PY{l+s+sd}{    \\PYZhy{}\\PYZhy{}\\PYZhy{}\\PYZhy{}\\PYZhy{}\\PYZhy{}\\PYZhy{}\\PYZhy{}\\PYZhy{}\\PYZhy{}}\n",
       "\\PY{l+s+sd}{    personal: str}\n",
       "\\PY{l+s+sd}{        A given name, such as Will or Jean\\PYZhy{}Luc}\n",
       "\\PY{l+s+sd}{    family: str}\n",
       "\\PY{l+s+sd}{        A family name, such as Riker or Picard}\n",
       "\\PY{l+s+sd}{    title: str}\n",
       "\\PY{l+s+sd}{        An optional title, such as Captain or Reverend}\n",
       "\\PY{l+s+sd}{    polite: bool}\n",
       "\\PY{l+s+sd}{        True for a formal greeting, False for informal.}\n",
       "\n",
       "\\PY{l+s+sd}{    Returns}\n",
       "\\PY{l+s+sd}{    \\PYZhy{}\\PYZhy{}\\PYZhy{}\\PYZhy{}\\PYZhy{}\\PYZhy{}\\PYZhy{}}\n",
       "\\PY{l+s+sd}{    string}\n",
       "\\PY{l+s+sd}{        An appropriate greeting}\n",
       "\n",
       "\\PY{l+s+sd}{    Examples}\n",
       "\\PY{l+s+sd}{    \\PYZhy{}\\PYZhy{}\\PYZhy{}\\PYZhy{}\\PYZhy{}\\PYZhy{}\\PYZhy{}\\PYZhy{}}\n",
       "\\PY{l+s+sd}{    \\PYZgt{}\\PYZgt{}\\PYZgt{} from greetings.greeter import greet}\n",
       "\\PY{l+s+sd}{    \\PYZgt{}\\PYZgt{}\\PYZgt{} greet(\\PYZdq{}Terry\\PYZdq{}, \\PYZdq{}Jones\\PYZdq{})}\n",
       "\\PY{l+s+sd}{    \\PYZsq{}Hey, Terry Jones.}\n",
       "\\PY{l+s+sd}{    \\PYZdq{}\\PYZdq{}\\PYZdq{}}\n",
       "\n",
       "    \\PY{n}{greeting} \\PY{o}{=} \\PY{l+s+s2}{\\PYZdq{}}\\PY{l+s+s2}{How do you do, }\\PY{l+s+s2}{\\PYZdq{}} \\PY{k}{if} \\PY{n}{polite} \\PY{k}{else} \\PY{l+s+s2}{\\PYZdq{}}\\PY{l+s+s2}{Hey, }\\PY{l+s+s2}{\\PYZdq{}}\n",
       "    \\PY{k}{if} \\PY{n}{title}\\PY{p}{:}\n",
       "        \\PY{n}{greeting} \\PY{o}{+}\\PY{o}{=} \\PY{n}{f}\\PY{l+s+s2}{\\PYZdq{}}\\PY{l+s+s2}{\\PYZob{}title\\PYZcb{} }\\PY{l+s+s2}{\\PYZdq{}}\n",
       "\n",
       "    \\PY{n}{greeting} \\PY{o}{+}\\PY{o}{=} \\PY{n}{f}\\PY{l+s+s2}{\\PYZdq{}}\\PY{l+s+s2}{\\PYZob{}personal\\PYZcb{} \\PYZob{}family\\PYZcb{}.}\\PY{l+s+s2}{\\PYZdq{}}\n",
       "    \\PY{k}{return} \\PY{n}{greeting}\n",
       "\\end{Verbatim}\n"
      ],
      "text/plain": [
       "def greet(personal, family, title=\"\", polite=False):\n",
       "    \"\"\" Generate a greeting string for a person.\n",
       "\n",
       "    Parameters\n",
       "    ----------\n",
       "    personal: str\n",
       "        A given name, such as Will or Jean-Luc\n",
       "    family: str\n",
       "        A family name, such as Riker or Picard\n",
       "    title: str\n",
       "        An optional title, such as Captain or Reverend\n",
       "    polite: bool\n",
       "        True for a formal greeting, False for informal.\n",
       "\n",
       "    Returns\n",
       "    -------\n",
       "    string\n",
       "        An appropriate greeting\n",
       "\n",
       "    Examples\n",
       "    --------\n",
       "    >>> from greetings.greeter import greet\n",
       "    >>> greet(\"Terry\", \"Jones\")\n",
       "    'Hey, Terry Jones.\n",
       "    \"\"\"\n",
       "\n",
       "    greeting = \"How do you do, \" if polite else \"Hey, \"\n",
       "    if title:\n",
       "        greeting += f\"{title} \"\n",
       "\n",
       "    greeting += f\"{personal} {family}.\"\n",
       "    return greeting"
      ]
     },
     "execution_count": 4,
     "metadata": {},
     "output_type": "execute_result"
    }
   ],
   "source": [
    "from IPython.display import Code\n",
    "Code(\"greetings/greetings/greeter.py\")"
   ]
  },
  {
   "cell_type": "code",
   "execution_count": 5,
   "metadata": {
    "collapsed": false
   },
   "outputs": [
    {
     "name": "stdout",
     "output_type": "stream",
     "text": [
      "Help on function greet in module greetings.greeter:\n",
      "\n",
      "greet(personal, family, title='', polite=False)\n",
      "    Generate a greeting string for a person.\n",
      "    \n",
      "    Parameters\n",
      "    ----------\n",
      "    personal: str\n",
      "        A given name, such as Will or Jean-Luc\n",
      "    family: str\n",
      "        A family name, such as Riker or Picard\n",
      "    title: str\n",
      "        An optional title, such as Captain or Reverend\n",
      "    polite: bool\n",
      "        True for a formal greeting, False for informal.\n",
      "    \n",
      "    Returns\n",
      "    -------\n",
      "    string\n",
      "        An appropriate greeting\n",
      "    \n",
      "    Examples\n",
      "    --------\n",
      "    >>> from greetings.greeter import greet\n",
      "    >>> greet(\"Terry\", \"Jones\")\n",
      "    'Hey, Terry Jones.\n",
      "\n"
     ]
    }
   ],
   "source": [
    "import greetings\n",
    "help(greetings.greeter.greet)"
   ]
  },
  {
   "cell_type": "markdown",
   "metadata": {},
   "source": [
    "The documentation string explains how to use the function; don't worry about this for now, we'll consider\n",
    "this on [the next section](./04documentation.html) ([notebook version](./04documentation.ipynb))."
   ]
  },
  {
   "cell_type": "markdown",
   "metadata": {},
   "source": [
    "### Write an executable script"
   ]
  },
  {
   "cell_type": "markdown",
   "metadata": {},
   "source": [
    "\n",
    "\n",
    "\n",
    "\n",
    "\n"
   ]
  },
  {
   "cell_type": "code",
   "execution_count": 6,
   "metadata": {},
   "outputs": [
    {
     "data": {
      "text/html": [
       "<style>.output_html .hll { background-color: #ffffcc }\n",
       ".output_html  { background: #f8f8f8; }\n",
       ".output_html .c { color: #408080; font-style: italic } /* Comment */\n",
       ".output_html .err { border: 1px solid #FF0000 } /* Error */\n",
       ".output_html .k { color: #008000; font-weight: bold } /* Keyword */\n",
       ".output_html .o { color: #666666 } /* Operator */\n",
       ".output_html .ch { color: #408080; font-style: italic } /* Comment.Hashbang */\n",
       ".output_html .cm { color: #408080; font-style: italic } /* Comment.Multiline */\n",
       ".output_html .cp { color: #BC7A00 } /* Comment.Preproc */\n",
       ".output_html .cpf { color: #408080; font-style: italic } /* Comment.PreprocFile */\n",
       ".output_html .c1 { color: #408080; font-style: italic } /* Comment.Single */\n",
       ".output_html .cs { color: #408080; font-style: italic } /* Comment.Special */\n",
       ".output_html .gd { color: #A00000 } /* Generic.Deleted */\n",
       ".output_html .ge { font-style: italic } /* Generic.Emph */\n",
       ".output_html .gr { color: #FF0000 } /* Generic.Error */\n",
       ".output_html .gh { color: #000080; font-weight: bold } /* Generic.Heading */\n",
       ".output_html .gi { color: #00A000 } /* Generic.Inserted */\n",
       ".output_html .go { color: #888888 } /* Generic.Output */\n",
       ".output_html .gp { color: #000080; font-weight: bold } /* Generic.Prompt */\n",
       ".output_html .gs { font-weight: bold } /* Generic.Strong */\n",
       ".output_html .gu { color: #800080; font-weight: bold } /* Generic.Subheading */\n",
       ".output_html .gt { color: #0044DD } /* Generic.Traceback */\n",
       ".output_html .kc { color: #008000; font-weight: bold } /* Keyword.Constant */\n",
       ".output_html .kd { color: #008000; font-weight: bold } /* Keyword.Declaration */\n",
       ".output_html .kn { color: #008000; font-weight: bold } /* Keyword.Namespace */\n",
       ".output_html .kp { color: #008000 } /* Keyword.Pseudo */\n",
       ".output_html .kr { color: #008000; font-weight: bold } /* Keyword.Reserved */\n",
       ".output_html .kt { color: #B00040 } /* Keyword.Type */\n",
       ".output_html .m { color: #666666 } /* Literal.Number */\n",
       ".output_html .s { color: #BA2121 } /* Literal.String */\n",
       ".output_html .na { color: #7D9029 } /* Name.Attribute */\n",
       ".output_html .nb { color: #008000 } /* Name.Builtin */\n",
       ".output_html .nc { color: #0000FF; font-weight: bold } /* Name.Class */\n",
       ".output_html .no { color: #880000 } /* Name.Constant */\n",
       ".output_html .nd { color: #AA22FF } /* Name.Decorator */\n",
       ".output_html .ni { color: #999999; font-weight: bold } /* Name.Entity */\n",
       ".output_html .ne { color: #D2413A; font-weight: bold } /* Name.Exception */\n",
       ".output_html .nf { color: #0000FF } /* Name.Function */\n",
       ".output_html .nl { color: #A0A000 } /* Name.Label */\n",
       ".output_html .nn { color: #0000FF; font-weight: bold } /* Name.Namespace */\n",
       ".output_html .nt { color: #008000; font-weight: bold } /* Name.Tag */\n",
       ".output_html .nv { color: #19177C } /* Name.Variable */\n",
       ".output_html .ow { color: #AA22FF; font-weight: bold } /* Operator.Word */\n",
       ".output_html .w { color: #bbbbbb } /* Text.Whitespace */\n",
       ".output_html .mb { color: #666666 } /* Literal.Number.Bin */\n",
       ".output_html .mf { color: #666666 } /* Literal.Number.Float */\n",
       ".output_html .mh { color: #666666 } /* Literal.Number.Hex */\n",
       ".output_html .mi { color: #666666 } /* Literal.Number.Integer */\n",
       ".output_html .mo { color: #666666 } /* Literal.Number.Oct */\n",
       ".output_html .sa { color: #BA2121 } /* Literal.String.Affix */\n",
       ".output_html .sb { color: #BA2121 } /* Literal.String.Backtick */\n",
       ".output_html .sc { color: #BA2121 } /* Literal.String.Char */\n",
       ".output_html .dl { color: #BA2121 } /* Literal.String.Delimiter */\n",
       ".output_html .sd { color: #BA2121; font-style: italic } /* Literal.String.Doc */\n",
       ".output_html .s2 { color: #BA2121 } /* Literal.String.Double */\n",
       ".output_html .se { color: #BB6622; font-weight: bold } /* Literal.String.Escape */\n",
       ".output_html .sh { color: #BA2121 } /* Literal.String.Heredoc */\n",
       ".output_html .si { color: #BB6688; font-weight: bold } /* Literal.String.Interpol */\n",
       ".output_html .sx { color: #008000 } /* Literal.String.Other */\n",
       ".output_html .sr { color: #BB6688 } /* Literal.String.Regex */\n",
       ".output_html .s1 { color: #BA2121 } /* Literal.String.Single */\n",
       ".output_html .ss { color: #19177C } /* Literal.String.Symbol */\n",
       ".output_html .bp { color: #008000 } /* Name.Builtin.Pseudo */\n",
       ".output_html .fm { color: #0000FF } /* Name.Function.Magic */\n",
       ".output_html .vc { color: #19177C } /* Name.Variable.Class */\n",
       ".output_html .vg { color: #19177C } /* Name.Variable.Global */\n",
       ".output_html .vi { color: #19177C } /* Name.Variable.Instance */\n",
       ".output_html .vm { color: #19177C } /* Name.Variable.Magic */\n",
       ".output_html .il { color: #666666 } /* Literal.Number.Integer.Long */</style><div class=\"highlight\"><pre><span></span><span class=\"kn\">from</span> <span class=\"nn\">argparse</span> <span class=\"kn\">import</span> <span class=\"n\">ArgumentParser</span>\n",
       "<span class=\"kn\">from</span> <span class=\"nn\">.greeter</span> <span class=\"kn\">import</span> <span class=\"n\">greet</span> <span class=\"c1\"># Note python 3 relative import</span>\n",
       "\n",
       "<span class=\"k\">def</span> <span class=\"nf\">process</span><span class=\"p\">():</span>\n",
       "   <span class=\"n\">parser</span> <span class=\"o\">=</span> <span class=\"n\">ArgumentParser</span><span class=\"p\">(</span><span class=\"n\">description</span><span class=\"o\">=</span><span class=\"s2\">&quot;Generate appropriate greetings&quot;</span><span class=\"p\">)</span>\n",
       "\n",
       "   <span class=\"n\">parser</span><span class=\"o\">.</span><span class=\"n\">add_argument</span><span class=\"p\">(</span><span class=\"s1\">&#39;--title&#39;</span><span class=\"p\">,</span> <span class=\"s1\">&#39;-t&#39;</span><span class=\"p\">)</span>\n",
       "   <span class=\"n\">parser</span><span class=\"o\">.</span><span class=\"n\">add_argument</span><span class=\"p\">(</span><span class=\"s1\">&#39;--polite&#39;</span><span class=\"p\">,</span> <span class=\"s1\">&#39;-p&#39;</span><span class=\"p\">,</span> <span class=\"n\">action</span><span class=\"o\">=</span><span class=\"s2\">&quot;store_true&quot;</span><span class=\"p\">)</span>\n",
       "   <span class=\"n\">parser</span><span class=\"o\">.</span><span class=\"n\">add_argument</span><span class=\"p\">(</span><span class=\"s1\">&#39;personal&#39;</span><span class=\"p\">)</span>\n",
       "   <span class=\"n\">parser</span><span class=\"o\">.</span><span class=\"n\">add_argument</span><span class=\"p\">(</span><span class=\"s1\">&#39;family&#39;</span><span class=\"p\">)</span>\n",
       "\n",
       "   <span class=\"n\">arguments</span> <span class=\"o\">=</span> <span class=\"n\">parser</span><span class=\"o\">.</span><span class=\"n\">parse_args</span><span class=\"p\">()</span>\n",
       "\n",
       "   <span class=\"k\">print</span><span class=\"p\">(</span><span class=\"n\">greet</span><span class=\"p\">(</span><span class=\"n\">arguments</span><span class=\"o\">.</span><span class=\"n\">personal</span><span class=\"p\">,</span> <span class=\"n\">arguments</span><span class=\"o\">.</span><span class=\"n\">family</span><span class=\"p\">,</span> \n",
       "               <span class=\"n\">arguments</span><span class=\"o\">.</span><span class=\"n\">title</span><span class=\"p\">,</span> <span class=\"n\">arguments</span><span class=\"o\">.</span><span class=\"n\">polite</span><span class=\"p\">))</span>\n",
       "\n",
       "<span class=\"k\">if</span> <span class=\"vm\">__name__</span> <span class=\"o\">==</span> <span class=\"s2\">&quot;__main__&quot;</span><span class=\"p\">:</span>\n",
       "    <span class=\"n\">process</span><span class=\"p\">()</span>\n",
       "</pre></div>\n"
      ],
      "text/latex": [
       "\\begin{Verbatim}[commandchars=\\\\\\{\\}]\n",
       "\\PY{k+kn}{from} \\PY{n+nn}{argparse} \\PY{k+kn}{import} \\PY{n}{ArgumentParser}\n",
       "\\PY{k+kn}{from} \\PY{n+nn}{.greeter} \\PY{k+kn}{import} \\PY{n}{greet} \\PY{c+c1}{\\PYZsh{} Note python 3 relative import}\n",
       "\n",
       "\\PY{k}{def} \\PY{n+nf}{process}\\PY{p}{(}\\PY{p}{)}\\PY{p}{:}\n",
       "   \\PY{n}{parser} \\PY{o}{=} \\PY{n}{ArgumentParser}\\PY{p}{(}\\PY{n}{description}\\PY{o}{=}\\PY{l+s+s2}{\\PYZdq{}}\\PY{l+s+s2}{Generate appropriate greetings}\\PY{l+s+s2}{\\PYZdq{}}\\PY{p}{)}\n",
       "\n",
       "   \\PY{n}{parser}\\PY{o}{.}\\PY{n}{add\\PYZus{}argument}\\PY{p}{(}\\PY{l+s+s1}{\\PYZsq{}}\\PY{l+s+s1}{\\PYZhy{}\\PYZhy{}title}\\PY{l+s+s1}{\\PYZsq{}}\\PY{p}{,} \\PY{l+s+s1}{\\PYZsq{}}\\PY{l+s+s1}{\\PYZhy{}t}\\PY{l+s+s1}{\\PYZsq{}}\\PY{p}{)}\n",
       "   \\PY{n}{parser}\\PY{o}{.}\\PY{n}{add\\PYZus{}argument}\\PY{p}{(}\\PY{l+s+s1}{\\PYZsq{}}\\PY{l+s+s1}{\\PYZhy{}\\PYZhy{}polite}\\PY{l+s+s1}{\\PYZsq{}}\\PY{p}{,} \\PY{l+s+s1}{\\PYZsq{}}\\PY{l+s+s1}{\\PYZhy{}p}\\PY{l+s+s1}{\\PYZsq{}}\\PY{p}{,} \\PY{n}{action}\\PY{o}{=}\\PY{l+s+s2}{\\PYZdq{}}\\PY{l+s+s2}{store\\PYZus{}true}\\PY{l+s+s2}{\\PYZdq{}}\\PY{p}{)}\n",
       "   \\PY{n}{parser}\\PY{o}{.}\\PY{n}{add\\PYZus{}argument}\\PY{p}{(}\\PY{l+s+s1}{\\PYZsq{}}\\PY{l+s+s1}{personal}\\PY{l+s+s1}{\\PYZsq{}}\\PY{p}{)}\n",
       "   \\PY{n}{parser}\\PY{o}{.}\\PY{n}{add\\PYZus{}argument}\\PY{p}{(}\\PY{l+s+s1}{\\PYZsq{}}\\PY{l+s+s1}{family}\\PY{l+s+s1}{\\PYZsq{}}\\PY{p}{)}\n",
       "\n",
       "   \\PY{n}{arguments} \\PY{o}{=} \\PY{n}{parser}\\PY{o}{.}\\PY{n}{parse\\PYZus{}args}\\PY{p}{(}\\PY{p}{)}\n",
       "\n",
       "   \\PY{k}{print}\\PY{p}{(}\\PY{n}{greet}\\PY{p}{(}\\PY{n}{arguments}\\PY{o}{.}\\PY{n}{personal}\\PY{p}{,} \\PY{n}{arguments}\\PY{o}{.}\\PY{n}{family}\\PY{p}{,} \n",
       "               \\PY{n}{arguments}\\PY{o}{.}\\PY{n}{title}\\PY{p}{,} \\PY{n}{arguments}\\PY{o}{.}\\PY{n}{polite}\\PY{p}{)}\\PY{p}{)}\n",
       "\n",
       "\\PY{k}{if} \\PY{n+nv+vm}{\\PYZus{}\\PYZus{}name\\PYZus{}\\PYZus{}} \\PY{o}{==} \\PY{l+s+s2}{\\PYZdq{}}\\PY{l+s+s2}{\\PYZus{}\\PYZus{}main\\PYZus{}\\PYZus{}}\\PY{l+s+s2}{\\PYZdq{}}\\PY{p}{:}\n",
       "    \\PY{n}{process}\\PY{p}{(}\\PY{p}{)}\n",
       "\\end{Verbatim}\n"
      ],
      "text/plain": [
       "from argparse import ArgumentParser\n",
       "from .greeter import greet # Note python 3 relative import\n",
       "\n",
       "def process():\n",
       "   parser = ArgumentParser(description=\"Generate appropriate greetings\")\n",
       "\n",
       "   parser.add_argument('--title', '-t')\n",
       "   parser.add_argument('--polite', '-p', action=\"store_true\")\n",
       "   parser.add_argument('personal')\n",
       "   parser.add_argument('family')\n",
       "\n",
       "   arguments = parser.parse_args()\n",
       "\n",
       "   print(greet(arguments.personal, arguments.family, \n",
       "               arguments.title, arguments.polite))\n",
       "\n",
       "if __name__ == \"__main__\":\n",
       "    process()"
      ]
     },
     "execution_count": 6,
     "metadata": {},
     "output_type": "execute_result"
    }
   ],
   "source": [
    "Code(\"greetings/greetings/command.py\")"
   ]
  },
  {
   "cell_type": "markdown",
   "metadata": {},
   "source": [
    "\n",
    "\n"
   ]
  },
  {
   "cell_type": "markdown",
   "metadata": {},
   "source": [
    "### Specify dependencies"
   ]
  },
  {
   "cell_type": "markdown",
   "metadata": {},
   "source": [
    "We use the setup.py file to specify the packages we depend on:"
   ]
  },
  {
   "cell_type": "markdown",
   "metadata": {},
   "source": [
    "```python\n",
    "setup(\n",
    "    name=\"Greetings\",\n",
    "    version=\"0.1.0\",\n",
    "    packages=find_packages(exclude=['*test']),\n",
    "    install_requires=['numpy', 'pyyaml'] # NOTE: this is an example to ilustrate how to add dependencies.\n",
    ")                                        #       Greetings doesn't have any external dependency.\n",
    "```"
   ]
  },
  {
   "cell_type": "markdown",
   "metadata": {},
   "source": [
    "### Specify entry point"
   ]
  },
  {
   "cell_type": "markdown",
   "metadata": {},
   "source": [
    "This allows us to create a command to execute part of our library. In this case when we execute `greet` on the terminal, we will be calling the `process` function under `greetings/command.py`.\n"
   ]
  },
  {
   "cell_type": "code",
   "execution_count": 7,
   "metadata": {},
   "outputs": [
    {
     "data": {
      "text/html": [
       "<style>.output_html .hll { background-color: #ffffcc }\n",
       ".output_html  { background: #f8f8f8; }\n",
       ".output_html .c { color: #408080; font-style: italic } /* Comment */\n",
       ".output_html .err { border: 1px solid #FF0000 } /* Error */\n",
       ".output_html .k { color: #008000; font-weight: bold } /* Keyword */\n",
       ".output_html .o { color: #666666 } /* Operator */\n",
       ".output_html .ch { color: #408080; font-style: italic } /* Comment.Hashbang */\n",
       ".output_html .cm { color: #408080; font-style: italic } /* Comment.Multiline */\n",
       ".output_html .cp { color: #BC7A00 } /* Comment.Preproc */\n",
       ".output_html .cpf { color: #408080; font-style: italic } /* Comment.PreprocFile */\n",
       ".output_html .c1 { color: #408080; font-style: italic } /* Comment.Single */\n",
       ".output_html .cs { color: #408080; font-style: italic } /* Comment.Special */\n",
       ".output_html .gd { color: #A00000 } /* Generic.Deleted */\n",
       ".output_html .ge { font-style: italic } /* Generic.Emph */\n",
       ".output_html .gr { color: #FF0000 } /* Generic.Error */\n",
       ".output_html .gh { color: #000080; font-weight: bold } /* Generic.Heading */\n",
       ".output_html .gi { color: #00A000 } /* Generic.Inserted */\n",
       ".output_html .go { color: #888888 } /* Generic.Output */\n",
       ".output_html .gp { color: #000080; font-weight: bold } /* Generic.Prompt */\n",
       ".output_html .gs { font-weight: bold } /* Generic.Strong */\n",
       ".output_html .gu { color: #800080; font-weight: bold } /* Generic.Subheading */\n",
       ".output_html .gt { color: #0044DD } /* Generic.Traceback */\n",
       ".output_html .kc { color: #008000; font-weight: bold } /* Keyword.Constant */\n",
       ".output_html .kd { color: #008000; font-weight: bold } /* Keyword.Declaration */\n",
       ".output_html .kn { color: #008000; font-weight: bold } /* Keyword.Namespace */\n",
       ".output_html .kp { color: #008000 } /* Keyword.Pseudo */\n",
       ".output_html .kr { color: #008000; font-weight: bold } /* Keyword.Reserved */\n",
       ".output_html .kt { color: #B00040 } /* Keyword.Type */\n",
       ".output_html .m { color: #666666 } /* Literal.Number */\n",
       ".output_html .s { color: #BA2121 } /* Literal.String */\n",
       ".output_html .na { color: #7D9029 } /* Name.Attribute */\n",
       ".output_html .nb { color: #008000 } /* Name.Builtin */\n",
       ".output_html .nc { color: #0000FF; font-weight: bold } /* Name.Class */\n",
       ".output_html .no { color: #880000 } /* Name.Constant */\n",
       ".output_html .nd { color: #AA22FF } /* Name.Decorator */\n",
       ".output_html .ni { color: #999999; font-weight: bold } /* Name.Entity */\n",
       ".output_html .ne { color: #D2413A; font-weight: bold } /* Name.Exception */\n",
       ".output_html .nf { color: #0000FF } /* Name.Function */\n",
       ".output_html .nl { color: #A0A000 } /* Name.Label */\n",
       ".output_html .nn { color: #0000FF; font-weight: bold } /* Name.Namespace */\n",
       ".output_html .nt { color: #008000; font-weight: bold } /* Name.Tag */\n",
       ".output_html .nv { color: #19177C } /* Name.Variable */\n",
       ".output_html .ow { color: #AA22FF; font-weight: bold } /* Operator.Word */\n",
       ".output_html .w { color: #bbbbbb } /* Text.Whitespace */\n",
       ".output_html .mb { color: #666666 } /* Literal.Number.Bin */\n",
       ".output_html .mf { color: #666666 } /* Literal.Number.Float */\n",
       ".output_html .mh { color: #666666 } /* Literal.Number.Hex */\n",
       ".output_html .mi { color: #666666 } /* Literal.Number.Integer */\n",
       ".output_html .mo { color: #666666 } /* Literal.Number.Oct */\n",
       ".output_html .sa { color: #BA2121 } /* Literal.String.Affix */\n",
       ".output_html .sb { color: #BA2121 } /* Literal.String.Backtick */\n",
       ".output_html .sc { color: #BA2121 } /* Literal.String.Char */\n",
       ".output_html .dl { color: #BA2121 } /* Literal.String.Delimiter */\n",
       ".output_html .sd { color: #BA2121; font-style: italic } /* Literal.String.Doc */\n",
       ".output_html .s2 { color: #BA2121 } /* Literal.String.Double */\n",
       ".output_html .se { color: #BB6622; font-weight: bold } /* Literal.String.Escape */\n",
       ".output_html .sh { color: #BA2121 } /* Literal.String.Heredoc */\n",
       ".output_html .si { color: #BB6688; font-weight: bold } /* Literal.String.Interpol */\n",
       ".output_html .sx { color: #008000 } /* Literal.String.Other */\n",
       ".output_html .sr { color: #BB6688 } /* Literal.String.Regex */\n",
       ".output_html .s1 { color: #BA2121 } /* Literal.String.Single */\n",
       ".output_html .ss { color: #19177C } /* Literal.String.Symbol */\n",
       ".output_html .bp { color: #008000 } /* Name.Builtin.Pseudo */\n",
       ".output_html .fm { color: #0000FF } /* Name.Function.Magic */\n",
       ".output_html .vc { color: #19177C } /* Name.Variable.Class */\n",
       ".output_html .vg { color: #19177C } /* Name.Variable.Global */\n",
       ".output_html .vi { color: #19177C } /* Name.Variable.Instance */\n",
       ".output_html .vm { color: #19177C } /* Name.Variable.Magic */\n",
       ".output_html .il { color: #666666 } /* Literal.Number.Integer.Long */</style><div class=\"highlight\"><pre><span></span><span class=\"kn\">from</span> <span class=\"nn\">setuptools</span> <span class=\"kn\">import</span> <span class=\"n\">setup</span><span class=\"p\">,</span> <span class=\"n\">find_packages</span>\n",
       "\n",
       "<span class=\"n\">setup</span><span class=\"p\">(</span>\n",
       "    <span class=\"n\">name</span><span class=\"o\">=</span><span class=\"s2\">&quot;Greetings&quot;</span><span class=\"p\">,</span>\n",
       "    <span class=\"n\">version</span><span class=\"o\">=</span><span class=\"s2\">&quot;0.1.0&quot;</span><span class=\"p\">,</span>\n",
       "    <span class=\"n\">packages</span><span class=\"o\">=</span><span class=\"n\">find_packages</span><span class=\"p\">(</span><span class=\"n\">exclude</span><span class=\"o\">=</span><span class=\"p\">[</span><span class=\"s1\">&#39;*test&#39;</span><span class=\"p\">]),</span>\n",
       "    <span class=\"n\">entry_points</span><span class=\"o\">=</span><span class=\"p\">{</span>\n",
       "        <span class=\"s1\">&#39;console_scripts&#39;</span><span class=\"p\">:</span> <span class=\"p\">[</span>\n",
       "            <span class=\"s1\">&#39;greet = greetings.command:process&#39;</span>\n",
       "        <span class=\"p\">]})</span>\n",
       "</pre></div>\n"
      ],
      "text/latex": [
       "\\begin{Verbatim}[commandchars=\\\\\\{\\}]\n",
       "\\PY{k+kn}{from} \\PY{n+nn}{setuptools} \\PY{k+kn}{import} \\PY{n}{setup}\\PY{p}{,} \\PY{n}{find\\PYZus{}packages}\n",
       "\n",
       "\\PY{n}{setup}\\PY{p}{(}\n",
       "    \\PY{n}{name}\\PY{o}{=}\\PY{l+s+s2}{\\PYZdq{}}\\PY{l+s+s2}{Greetings}\\PY{l+s+s2}{\\PYZdq{}}\\PY{p}{,}\n",
       "    \\PY{n}{version}\\PY{o}{=}\\PY{l+s+s2}{\\PYZdq{}}\\PY{l+s+s2}{0.1.0}\\PY{l+s+s2}{\\PYZdq{}}\\PY{p}{,}\n",
       "    \\PY{n}{packages}\\PY{o}{=}\\PY{n}{find\\PYZus{}packages}\\PY{p}{(}\\PY{n}{exclude}\\PY{o}{=}\\PY{p}{[}\\PY{l+s+s1}{\\PYZsq{}}\\PY{l+s+s1}{*test}\\PY{l+s+s1}{\\PYZsq{}}\\PY{p}{]}\\PY{p}{)}\\PY{p}{,}\n",
       "    \\PY{n}{entry\\PYZus{}points}\\PY{o}{=}\\PY{p}{\\PYZob{}}\n",
       "        \\PY{l+s+s1}{\\PYZsq{}}\\PY{l+s+s1}{console\\PYZus{}scripts}\\PY{l+s+s1}{\\PYZsq{}}\\PY{p}{:} \\PY{p}{[}\n",
       "            \\PY{l+s+s1}{\\PYZsq{}}\\PY{l+s+s1}{greet = greetings.command:process}\\PY{l+s+s1}{\\PYZsq{}}\n",
       "        \\PY{p}{]}\\PY{p}{\\PYZcb{}}\\PY{p}{)}\n",
       "\\end{Verbatim}\n"
      ],
      "text/plain": [
       "\n",
       "from setuptools import setup, find_packages\n",
       "\n",
       "setup(\n",
       "    name=\"Greetings\",\n",
       "    version=\"0.1.0\",\n",
       "    packages=find_packages(exclude=['*test']),\n",
       "    entry_points={\n",
       "        'console_scripts': [\n",
       "            'greet = greetings.command:process'\n",
       "        ]})"
      ]
     },
     "execution_count": 7,
     "metadata": {},
     "output_type": "execute_result"
    }
   ],
   "source": [
    "Code(\"greetings/setup.py\")"
   ]
  },
  {
   "cell_type": "markdown",
   "metadata": {},
   "source": [
    "\n",
    "And the scripts are now available as command line commands:\n",
    "\n",
    "\n"
   ]
  },
  {
   "cell_type": "code",
   "execution_count": 8,
   "metadata": {
    "collapsed": false
   },
   "outputs": [
    {
     "name": "stdout",
     "output_type": "stream",
     "text": [
      "usage: greet [-h] [--title TITLE] [--polite] personal family\n",
      "\n",
      "Generate appropriate greetings\n",
      "\n",
      "positional arguments:\n",
      "  personal\n",
      "  family\n",
      "\n",
      "optional arguments:\n",
      "  -h, --help            show this help message and exit\n",
      "  --title TITLE, -t TITLE\n",
      "  --polite, -p\n"
     ]
    }
   ],
   "source": [
    "%%bash\n",
    "greet --help"
   ]
  },
  {
   "cell_type": "code",
   "execution_count": 9,
   "metadata": {
    "collapsed": false
   },
   "outputs": [
    {
     "name": "stdout",
     "output_type": "stream",
     "text": [
      "Hey, Terry Gilliam.\n",
      "How do you do, Terry Gilliam.\n",
      "Hey, Cartoonist Terry Gilliam.\n"
     ]
    }
   ],
   "source": [
    "%%bash\n",
    "greet Terry Gilliam\n",
    "greet --polite Terry Gilliam\n",
    "greet Terry Gilliam --title Cartoonist"
   ]
  },
  {
   "cell_type": "markdown",
   "metadata": {},
   "source": [
    "### Installing from GitHub"
   ]
  },
  {
   "cell_type": "markdown",
   "metadata": {},
   "source": [
    "\n",
    "We could now submit \"greeter\" to PyPI for approval, so everyone could `pip install` it.\n",
    "\n",
    "However, when using git, we don't even need to do that: we can install directly from any git URL:\n"
   ]
  },
  {
   "cell_type": "markdown",
   "metadata": {},
   "source": [
    "```\n",
    "pip install git+git://github.com/ucl-rits/greeter\n",
    "```"
   ]
  },
  {
   "cell_type": "code",
   "execution_count": 10,
   "metadata": {
    "collapsed": false
   },
   "outputs": [
    {
     "name": "stdout",
     "output_type": "stream",
     "text": [
      "Hey, Sir Lancelot the-Brave.\n"
     ]
    }
   ],
   "source": [
    "%%bash\n",
    "greet Lancelot the-Brave --title Sir"
   ]
  },
  {
   "cell_type": "markdown",
   "metadata": {},
   "source": [
    "\n"
   ]
  },
  {
   "cell_type": "markdown",
   "metadata": {},
   "source": [
    "### Write a readme file"
   ]
  },
  {
   "cell_type": "markdown",
   "metadata": {},
   "source": [
    "e.g.:"
   ]
  },
  {
   "cell_type": "code",
   "execution_count": 11,
   "metadata": {},
   "outputs": [
    {
     "data": {
      "text/html": [
       "<style>.output_html .hll { background-color: #ffffcc }\n",
       ".output_html  { background: #f8f8f8; }\n",
       ".output_html .c { color: #408080; font-style: italic } /* Comment */\n",
       ".output_html .err { border: 1px solid #FF0000 } /* Error */\n",
       ".output_html .k { color: #008000; font-weight: bold } /* Keyword */\n",
       ".output_html .o { color: #666666 } /* Operator */\n",
       ".output_html .ch { color: #408080; font-style: italic } /* Comment.Hashbang */\n",
       ".output_html .cm { color: #408080; font-style: italic } /* Comment.Multiline */\n",
       ".output_html .cp { color: #BC7A00 } /* Comment.Preproc */\n",
       ".output_html .cpf { color: #408080; font-style: italic } /* Comment.PreprocFile */\n",
       ".output_html .c1 { color: #408080; font-style: italic } /* Comment.Single */\n",
       ".output_html .cs { color: #408080; font-style: italic } /* Comment.Special */\n",
       ".output_html .gd { color: #A00000 } /* Generic.Deleted */\n",
       ".output_html .ge { font-style: italic } /* Generic.Emph */\n",
       ".output_html .gr { color: #FF0000 } /* Generic.Error */\n",
       ".output_html .gh { color: #000080; font-weight: bold } /* Generic.Heading */\n",
       ".output_html .gi { color: #00A000 } /* Generic.Inserted */\n",
       ".output_html .go { color: #888888 } /* Generic.Output */\n",
       ".output_html .gp { color: #000080; font-weight: bold } /* Generic.Prompt */\n",
       ".output_html .gs { font-weight: bold } /* Generic.Strong */\n",
       ".output_html .gu { color: #800080; font-weight: bold } /* Generic.Subheading */\n",
       ".output_html .gt { color: #0044DD } /* Generic.Traceback */\n",
       ".output_html .kc { color: #008000; font-weight: bold } /* Keyword.Constant */\n",
       ".output_html .kd { color: #008000; font-weight: bold } /* Keyword.Declaration */\n",
       ".output_html .kn { color: #008000; font-weight: bold } /* Keyword.Namespace */\n",
       ".output_html .kp { color: #008000 } /* Keyword.Pseudo */\n",
       ".output_html .kr { color: #008000; font-weight: bold } /* Keyword.Reserved */\n",
       ".output_html .kt { color: #B00040 } /* Keyword.Type */\n",
       ".output_html .m { color: #666666 } /* Literal.Number */\n",
       ".output_html .s { color: #BA2121 } /* Literal.String */\n",
       ".output_html .na { color: #7D9029 } /* Name.Attribute */\n",
       ".output_html .nb { color: #008000 } /* Name.Builtin */\n",
       ".output_html .nc { color: #0000FF; font-weight: bold } /* Name.Class */\n",
       ".output_html .no { color: #880000 } /* Name.Constant */\n",
       ".output_html .nd { color: #AA22FF } /* Name.Decorator */\n",
       ".output_html .ni { color: #999999; font-weight: bold } /* Name.Entity */\n",
       ".output_html .ne { color: #D2413A; font-weight: bold } /* Name.Exception */\n",
       ".output_html .nf { color: #0000FF } /* Name.Function */\n",
       ".output_html .nl { color: #A0A000 } /* Name.Label */\n",
       ".output_html .nn { color: #0000FF; font-weight: bold } /* Name.Namespace */\n",
       ".output_html .nt { color: #008000; font-weight: bold } /* Name.Tag */\n",
       ".output_html .nv { color: #19177C } /* Name.Variable */\n",
       ".output_html .ow { color: #AA22FF; font-weight: bold } /* Operator.Word */\n",
       ".output_html .w { color: #bbbbbb } /* Text.Whitespace */\n",
       ".output_html .mb { color: #666666 } /* Literal.Number.Bin */\n",
       ".output_html .mf { color: #666666 } /* Literal.Number.Float */\n",
       ".output_html .mh { color: #666666 } /* Literal.Number.Hex */\n",
       ".output_html .mi { color: #666666 } /* Literal.Number.Integer */\n",
       ".output_html .mo { color: #666666 } /* Literal.Number.Oct */\n",
       ".output_html .sa { color: #BA2121 } /* Literal.String.Affix */\n",
       ".output_html .sb { color: #BA2121 } /* Literal.String.Backtick */\n",
       ".output_html .sc { color: #BA2121 } /* Literal.String.Char */\n",
       ".output_html .dl { color: #BA2121 } /* Literal.String.Delimiter */\n",
       ".output_html .sd { color: #BA2121; font-style: italic } /* Literal.String.Doc */\n",
       ".output_html .s2 { color: #BA2121 } /* Literal.String.Double */\n",
       ".output_html .se { color: #BB6622; font-weight: bold } /* Literal.String.Escape */\n",
       ".output_html .sh { color: #BA2121 } /* Literal.String.Heredoc */\n",
       ".output_html .si { color: #BB6688; font-weight: bold } /* Literal.String.Interpol */\n",
       ".output_html .sx { color: #008000 } /* Literal.String.Other */\n",
       ".output_html .sr { color: #BB6688 } /* Literal.String.Regex */\n",
       ".output_html .s1 { color: #BA2121 } /* Literal.String.Single */\n",
       ".output_html .ss { color: #19177C } /* Literal.String.Symbol */\n",
       ".output_html .bp { color: #008000 } /* Name.Builtin.Pseudo */\n",
       ".output_html .fm { color: #0000FF } /* Name.Function.Magic */\n",
       ".output_html .vc { color: #19177C } /* Name.Variable.Class */\n",
       ".output_html .vg { color: #19177C } /* Name.Variable.Global */\n",
       ".output_html .vi { color: #19177C } /* Name.Variable.Instance */\n",
       ".output_html .vm { color: #19177C } /* Name.Variable.Magic */\n",
       ".output_html .il { color: #666666 } /* Literal.Number.Integer.Long */</style><div class=\"highlight\"><pre><span></span>Greetings!\n",
       "==========\n",
       "\n",
       "This is a very simple example package used as part of the UCL\n",
       "[<span class=\"nt\">Research Software Engineering with Python</span>](<span class=\"na\">development.rc.ucl.ac.uk/training/engineering</span>) course.\n",
       "\n",
       "Usage:\n",
       "    \n",
       "Invoke the tool with <span class=\"sb\">`greet &lt;FirstName&gt; &lt;Secondname&gt;`</span>\n",
       "</pre></div>\n"
      ],
      "text/latex": [
       "\\begin{Verbatim}[commandchars=\\\\\\{\\}]\n",
       "Greetings!\n",
       "==========\n",
       "\n",
       "This is a very simple example package used as part of the UCL\n",
       "[\\PY{n+nt}{Research Software Engineering with Python}](\\PY{n+na}{development.rc.ucl.ac.uk/training/engineering}) course.\n",
       "\n",
       "Usage:\n",
       "    \n",
       "Invoke the tool with \\PY{l+s+sb}{`greet \\PYZlt{}FirstName\\PYZgt{} \\PYZlt{}Secondname\\PYZgt{}`}\n",
       "\\end{Verbatim}\n"
      ],
      "text/plain": [
       "\n",
       "Greetings!\n",
       "==========\n",
       "\n",
       "This is a very simple example package used as part of the UCL\n",
       "[Research Software Engineering with Python](development.rc.ucl.ac.uk/training/engineering) course.\n",
       "\n",
       "Usage:\n",
       "    \n",
       "Invoke the tool with `greet <FirstName> <Secondname>`"
      ]
     },
     "execution_count": 11,
     "metadata": {},
     "output_type": "execute_result"
    }
   ],
   "source": [
    "Code(\"greetings/README.md\")"
   ]
  },
  {
   "cell_type": "markdown",
   "metadata": {},
   "source": [
    "### Write a license file"
   ]
  },
  {
   "cell_type": "markdown",
   "metadata": {},
   "source": [
    "e.g.:"
   ]
  },
  {
   "cell_type": "code",
   "execution_count": 12,
   "metadata": {},
   "outputs": [
    {
     "data": {
      "text/html": [
       "<style>.output_html .hll { background-color: #ffffcc }\n",
       ".output_html  { background: #f8f8f8; }\n",
       ".output_html .c { color: #408080; font-style: italic } /* Comment */\n",
       ".output_html .err { border: 1px solid #FF0000 } /* Error */\n",
       ".output_html .k { color: #008000; font-weight: bold } /* Keyword */\n",
       ".output_html .o { color: #666666 } /* Operator */\n",
       ".output_html .ch { color: #408080; font-style: italic } /* Comment.Hashbang */\n",
       ".output_html .cm { color: #408080; font-style: italic } /* Comment.Multiline */\n",
       ".output_html .cp { color: #BC7A00 } /* Comment.Preproc */\n",
       ".output_html .cpf { color: #408080; font-style: italic } /* Comment.PreprocFile */\n",
       ".output_html .c1 { color: #408080; font-style: italic } /* Comment.Single */\n",
       ".output_html .cs { color: #408080; font-style: italic } /* Comment.Special */\n",
       ".output_html .gd { color: #A00000 } /* Generic.Deleted */\n",
       ".output_html .ge { font-style: italic } /* Generic.Emph */\n",
       ".output_html .gr { color: #FF0000 } /* Generic.Error */\n",
       ".output_html .gh { color: #000080; font-weight: bold } /* Generic.Heading */\n",
       ".output_html .gi { color: #00A000 } /* Generic.Inserted */\n",
       ".output_html .go { color: #888888 } /* Generic.Output */\n",
       ".output_html .gp { color: #000080; font-weight: bold } /* Generic.Prompt */\n",
       ".output_html .gs { font-weight: bold } /* Generic.Strong */\n",
       ".output_html .gu { color: #800080; font-weight: bold } /* Generic.Subheading */\n",
       ".output_html .gt { color: #0044DD } /* Generic.Traceback */\n",
       ".output_html .kc { color: #008000; font-weight: bold } /* Keyword.Constant */\n",
       ".output_html .kd { color: #008000; font-weight: bold } /* Keyword.Declaration */\n",
       ".output_html .kn { color: #008000; font-weight: bold } /* Keyword.Namespace */\n",
       ".output_html .kp { color: #008000 } /* Keyword.Pseudo */\n",
       ".output_html .kr { color: #008000; font-weight: bold } /* Keyword.Reserved */\n",
       ".output_html .kt { color: #B00040 } /* Keyword.Type */\n",
       ".output_html .m { color: #666666 } /* Literal.Number */\n",
       ".output_html .s { color: #BA2121 } /* Literal.String */\n",
       ".output_html .na { color: #7D9029 } /* Name.Attribute */\n",
       ".output_html .nb { color: #008000 } /* Name.Builtin */\n",
       ".output_html .nc { color: #0000FF; font-weight: bold } /* Name.Class */\n",
       ".output_html .no { color: #880000 } /* Name.Constant */\n",
       ".output_html .nd { color: #AA22FF } /* Name.Decorator */\n",
       ".output_html .ni { color: #999999; font-weight: bold } /* Name.Entity */\n",
       ".output_html .ne { color: #D2413A; font-weight: bold } /* Name.Exception */\n",
       ".output_html .nf { color: #0000FF } /* Name.Function */\n",
       ".output_html .nl { color: #A0A000 } /* Name.Label */\n",
       ".output_html .nn { color: #0000FF; font-weight: bold } /* Name.Namespace */\n",
       ".output_html .nt { color: #008000; font-weight: bold } /* Name.Tag */\n",
       ".output_html .nv { color: #19177C } /* Name.Variable */\n",
       ".output_html .ow { color: #AA22FF; font-weight: bold } /* Operator.Word */\n",
       ".output_html .w { color: #bbbbbb } /* Text.Whitespace */\n",
       ".output_html .mb { color: #666666 } /* Literal.Number.Bin */\n",
       ".output_html .mf { color: #666666 } /* Literal.Number.Float */\n",
       ".output_html .mh { color: #666666 } /* Literal.Number.Hex */\n",
       ".output_html .mi { color: #666666 } /* Literal.Number.Integer */\n",
       ".output_html .mo { color: #666666 } /* Literal.Number.Oct */\n",
       ".output_html .sa { color: #BA2121 } /* Literal.String.Affix */\n",
       ".output_html .sb { color: #BA2121 } /* Literal.String.Backtick */\n",
       ".output_html .sc { color: #BA2121 } /* Literal.String.Char */\n",
       ".output_html .dl { color: #BA2121 } /* Literal.String.Delimiter */\n",
       ".output_html .sd { color: #BA2121; font-style: italic } /* Literal.String.Doc */\n",
       ".output_html .s2 { color: #BA2121 } /* Literal.String.Double */\n",
       ".output_html .se { color: #BB6622; font-weight: bold } /* Literal.String.Escape */\n",
       ".output_html .sh { color: #BA2121 } /* Literal.String.Heredoc */\n",
       ".output_html .si { color: #BB6688; font-weight: bold } /* Literal.String.Interpol */\n",
       ".output_html .sx { color: #008000 } /* Literal.String.Other */\n",
       ".output_html .sr { color: #BB6688 } /* Literal.String.Regex */\n",
       ".output_html .s1 { color: #BA2121 } /* Literal.String.Single */\n",
       ".output_html .ss { color: #19177C } /* Literal.String.Symbol */\n",
       ".output_html .bp { color: #008000 } /* Name.Builtin.Pseudo */\n",
       ".output_html .fm { color: #0000FF } /* Name.Function.Magic */\n",
       ".output_html .vc { color: #19177C } /* Name.Variable.Class */\n",
       ".output_html .vg { color: #19177C } /* Name.Variable.Global */\n",
       ".output_html .vi { color: #19177C } /* Name.Variable.Instance */\n",
       ".output_html .vm { color: #19177C } /* Name.Variable.Magic */\n",
       ".output_html .il { color: #666666 } /* Literal.Number.Integer.Long */</style><div class=\"highlight\"><pre><span></span>(C) University College London 2014\n",
       "\n",
       "This &quot;greetings&quot; example package is granted into the public domain.\n",
       "</pre></div>\n"
      ],
      "text/latex": [
       "\\begin{Verbatim}[commandchars=\\\\\\{\\}]\n",
       "(C) University College London 2014\n",
       "\n",
       "This \\PYZdq{}greetings\\PYZdq{} example package is granted into the public domain.\n",
       "\\end{Verbatim}\n"
      ],
      "text/plain": [
       "\n",
       "(C) University College London 2014\n",
       "\n",
       "This \"greetings\" example package is granted into the public domain."
      ]
     },
     "execution_count": 12,
     "metadata": {},
     "output_type": "execute_result"
    }
   ],
   "source": [
    "Code(\"greetings/LICENSE.md\")"
   ]
  },
  {
   "cell_type": "markdown",
   "metadata": {},
   "source": [
    "### Write a citation file"
   ]
  },
  {
   "cell_type": "markdown",
   "metadata": {},
   "source": [
    "e.g.:"
   ]
  },
  {
   "cell_type": "code",
   "execution_count": 13,
   "metadata": {},
   "outputs": [
    {
     "data": {
      "text/html": [
       "<style>.output_html .hll { background-color: #ffffcc }\n",
       ".output_html  { background: #f8f8f8; }\n",
       ".output_html .c { color: #408080; font-style: italic } /* Comment */\n",
       ".output_html .err { border: 1px solid #FF0000 } /* Error */\n",
       ".output_html .k { color: #008000; font-weight: bold } /* Keyword */\n",
       ".output_html .o { color: #666666 } /* Operator */\n",
       ".output_html .ch { color: #408080; font-style: italic } /* Comment.Hashbang */\n",
       ".output_html .cm { color: #408080; font-style: italic } /* Comment.Multiline */\n",
       ".output_html .cp { color: #BC7A00 } /* Comment.Preproc */\n",
       ".output_html .cpf { color: #408080; font-style: italic } /* Comment.PreprocFile */\n",
       ".output_html .c1 { color: #408080; font-style: italic } /* Comment.Single */\n",
       ".output_html .cs { color: #408080; font-style: italic } /* Comment.Special */\n",
       ".output_html .gd { color: #A00000 } /* Generic.Deleted */\n",
       ".output_html .ge { font-style: italic } /* Generic.Emph */\n",
       ".output_html .gr { color: #FF0000 } /* Generic.Error */\n",
       ".output_html .gh { color: #000080; font-weight: bold } /* Generic.Heading */\n",
       ".output_html .gi { color: #00A000 } /* Generic.Inserted */\n",
       ".output_html .go { color: #888888 } /* Generic.Output */\n",
       ".output_html .gp { color: #000080; font-weight: bold } /* Generic.Prompt */\n",
       ".output_html .gs { font-weight: bold } /* Generic.Strong */\n",
       ".output_html .gu { color: #800080; font-weight: bold } /* Generic.Subheading */\n",
       ".output_html .gt { color: #0044DD } /* Generic.Traceback */\n",
       ".output_html .kc { color: #008000; font-weight: bold } /* Keyword.Constant */\n",
       ".output_html .kd { color: #008000; font-weight: bold } /* Keyword.Declaration */\n",
       ".output_html .kn { color: #008000; font-weight: bold } /* Keyword.Namespace */\n",
       ".output_html .kp { color: #008000 } /* Keyword.Pseudo */\n",
       ".output_html .kr { color: #008000; font-weight: bold } /* Keyword.Reserved */\n",
       ".output_html .kt { color: #B00040 } /* Keyword.Type */\n",
       ".output_html .m { color: #666666 } /* Literal.Number */\n",
       ".output_html .s { color: #BA2121 } /* Literal.String */\n",
       ".output_html .na { color: #7D9029 } /* Name.Attribute */\n",
       ".output_html .nb { color: #008000 } /* Name.Builtin */\n",
       ".output_html .nc { color: #0000FF; font-weight: bold } /* Name.Class */\n",
       ".output_html .no { color: #880000 } /* Name.Constant */\n",
       ".output_html .nd { color: #AA22FF } /* Name.Decorator */\n",
       ".output_html .ni { color: #999999; font-weight: bold } /* Name.Entity */\n",
       ".output_html .ne { color: #D2413A; font-weight: bold } /* Name.Exception */\n",
       ".output_html .nf { color: #0000FF } /* Name.Function */\n",
       ".output_html .nl { color: #A0A000 } /* Name.Label */\n",
       ".output_html .nn { color: #0000FF; font-weight: bold } /* Name.Namespace */\n",
       ".output_html .nt { color: #008000; font-weight: bold } /* Name.Tag */\n",
       ".output_html .nv { color: #19177C } /* Name.Variable */\n",
       ".output_html .ow { color: #AA22FF; font-weight: bold } /* Operator.Word */\n",
       ".output_html .w { color: #bbbbbb } /* Text.Whitespace */\n",
       ".output_html .mb { color: #666666 } /* Literal.Number.Bin */\n",
       ".output_html .mf { color: #666666 } /* Literal.Number.Float */\n",
       ".output_html .mh { color: #666666 } /* Literal.Number.Hex */\n",
       ".output_html .mi { color: #666666 } /* Literal.Number.Integer */\n",
       ".output_html .mo { color: #666666 } /* Literal.Number.Oct */\n",
       ".output_html .sa { color: #BA2121 } /* Literal.String.Affix */\n",
       ".output_html .sb { color: #BA2121 } /* Literal.String.Backtick */\n",
       ".output_html .sc { color: #BA2121 } /* Literal.String.Char */\n",
       ".output_html .dl { color: #BA2121 } /* Literal.String.Delimiter */\n",
       ".output_html .sd { color: #BA2121; font-style: italic } /* Literal.String.Doc */\n",
       ".output_html .s2 { color: #BA2121 } /* Literal.String.Double */\n",
       ".output_html .se { color: #BB6622; font-weight: bold } /* Literal.String.Escape */\n",
       ".output_html .sh { color: #BA2121 } /* Literal.String.Heredoc */\n",
       ".output_html .si { color: #BB6688; font-weight: bold } /* Literal.String.Interpol */\n",
       ".output_html .sx { color: #008000 } /* Literal.String.Other */\n",
       ".output_html .sr { color: #BB6688 } /* Literal.String.Regex */\n",
       ".output_html .s1 { color: #BA2121 } /* Literal.String.Single */\n",
       ".output_html .ss { color: #19177C } /* Literal.String.Symbol */\n",
       ".output_html .bp { color: #008000 } /* Name.Builtin.Pseudo */\n",
       ".output_html .fm { color: #0000FF } /* Name.Function.Magic */\n",
       ".output_html .vc { color: #19177C } /* Name.Variable.Class */\n",
       ".output_html .vg { color: #19177C } /* Name.Variable.Global */\n",
       ".output_html .vi { color: #19177C } /* Name.Variable.Instance */\n",
       ".output_html .vm { color: #19177C } /* Name.Variable.Magic */\n",
       ".output_html .il { color: #666666 } /* Literal.Number.Integer.Long */</style><div class=\"highlight\"><pre><span></span>If you wish to refer to this course, please cite the URL\n",
       "http://github-pages.ucl.ac.uk/rsd-engineeringcourse/\n",
       "\n",
       "Portions of the material are taken from [<span class=\"nt\">Software Carpentry</span>](<span class=\"na\">http://software-carpentry.org/</span>)\n",
       "</pre></div>\n"
      ],
      "text/latex": [
       "\\begin{Verbatim}[commandchars=\\\\\\{\\}]\n",
       "If you wish to refer to this course, please cite the URL\n",
       "http://github\\PYZhy{}pages.ucl.ac.uk/rsd\\PYZhy{}engineeringcourse/\n",
       "\n",
       "Portions of the material are taken from [\\PY{n+nt}{Software Carpentry}](\\PY{n+na}{http://software\\PYZhy{}carpentry.org/})\n",
       "\\end{Verbatim}\n"
      ],
      "text/plain": [
       "\n",
       "If you wish to refer to this course, please cite the URL\n",
       "http://github-pages.ucl.ac.uk/rsd-engineeringcourse/\n",
       "\n",
       "Portions of the material are taken from [Software Carpentry](http://software-carpentry.org/)"
      ]
     },
     "execution_count": 13,
     "metadata": {},
     "output_type": "execute_result"
    }
   ],
   "source": [
    "Code(\"greetings/CITATION.md\")"
   ]
  },
  {
   "cell_type": "markdown",
   "metadata": {},
   "source": [
    "You may well want to formalise this using the [codemeta.json](https://codemeta.github.io/) standard or the [citation file format](http://citation-file-format.github.io/) - these don't have wide adoption yet, but we recommend it."
   ]
  },
  {
   "cell_type": "markdown",
   "metadata": {},
   "source": [
    "### Define packages and executables"
   ]
  },
  {
   "cell_type": "code",
   "execution_count": 14,
   "metadata": {
    "collapsed": true
   },
   "outputs": [],
   "source": [
    "%%bash\n",
    "touch greetings/greetings/test/__init__.py\n",
    "touch greetings/greetings/__init__.py"
   ]
  },
  {
   "cell_type": "markdown",
   "metadata": {},
   "source": [
    "### Write some unit tests"
   ]
  },
  {
   "cell_type": "markdown",
   "metadata": {},
   "source": [
    "\n",
    "Separating the script from the logical module made this possible:\n",
    "\n",
    "\n",
    "\n",
    "\n",
    "\n"
   ]
  },
  {
   "cell_type": "code",
   "execution_count": 15,
   "metadata": {},
   "outputs": [
    {
     "data": {
      "text/html": [
       "<style>.output_html .hll { background-color: #ffffcc }\n",
       ".output_html  { background: #f8f8f8; }\n",
       ".output_html .c { color: #408080; font-style: italic } /* Comment */\n",
       ".output_html .err { border: 1px solid #FF0000 } /* Error */\n",
       ".output_html .k { color: #008000; font-weight: bold } /* Keyword */\n",
       ".output_html .o { color: #666666 } /* Operator */\n",
       ".output_html .ch { color: #408080; font-style: italic } /* Comment.Hashbang */\n",
       ".output_html .cm { color: #408080; font-style: italic } /* Comment.Multiline */\n",
       ".output_html .cp { color: #BC7A00 } /* Comment.Preproc */\n",
       ".output_html .cpf { color: #408080; font-style: italic } /* Comment.PreprocFile */\n",
       ".output_html .c1 { color: #408080; font-style: italic } /* Comment.Single */\n",
       ".output_html .cs { color: #408080; font-style: italic } /* Comment.Special */\n",
       ".output_html .gd { color: #A00000 } /* Generic.Deleted */\n",
       ".output_html .ge { font-style: italic } /* Generic.Emph */\n",
       ".output_html .gr { color: #FF0000 } /* Generic.Error */\n",
       ".output_html .gh { color: #000080; font-weight: bold } /* Generic.Heading */\n",
       ".output_html .gi { color: #00A000 } /* Generic.Inserted */\n",
       ".output_html .go { color: #888888 } /* Generic.Output */\n",
       ".output_html .gp { color: #000080; font-weight: bold } /* Generic.Prompt */\n",
       ".output_html .gs { font-weight: bold } /* Generic.Strong */\n",
       ".output_html .gu { color: #800080; font-weight: bold } /* Generic.Subheading */\n",
       ".output_html .gt { color: #0044DD } /* Generic.Traceback */\n",
       ".output_html .kc { color: #008000; font-weight: bold } /* Keyword.Constant */\n",
       ".output_html .kd { color: #008000; font-weight: bold } /* Keyword.Declaration */\n",
       ".output_html .kn { color: #008000; font-weight: bold } /* Keyword.Namespace */\n",
       ".output_html .kp { color: #008000 } /* Keyword.Pseudo */\n",
       ".output_html .kr { color: #008000; font-weight: bold } /* Keyword.Reserved */\n",
       ".output_html .kt { color: #B00040 } /* Keyword.Type */\n",
       ".output_html .m { color: #666666 } /* Literal.Number */\n",
       ".output_html .s { color: #BA2121 } /* Literal.String */\n",
       ".output_html .na { color: #7D9029 } /* Name.Attribute */\n",
       ".output_html .nb { color: #008000 } /* Name.Builtin */\n",
       ".output_html .nc { color: #0000FF; font-weight: bold } /* Name.Class */\n",
       ".output_html .no { color: #880000 } /* Name.Constant */\n",
       ".output_html .nd { color: #AA22FF } /* Name.Decorator */\n",
       ".output_html .ni { color: #999999; font-weight: bold } /* Name.Entity */\n",
       ".output_html .ne { color: #D2413A; font-weight: bold } /* Name.Exception */\n",
       ".output_html .nf { color: #0000FF } /* Name.Function */\n",
       ".output_html .nl { color: #A0A000 } /* Name.Label */\n",
       ".output_html .nn { color: #0000FF; font-weight: bold } /* Name.Namespace */\n",
       ".output_html .nt { color: #008000; font-weight: bold } /* Name.Tag */\n",
       ".output_html .nv { color: #19177C } /* Name.Variable */\n",
       ".output_html .ow { color: #AA22FF; font-weight: bold } /* Operator.Word */\n",
       ".output_html .w { color: #bbbbbb } /* Text.Whitespace */\n",
       ".output_html .mb { color: #666666 } /* Literal.Number.Bin */\n",
       ".output_html .mf { color: #666666 } /* Literal.Number.Float */\n",
       ".output_html .mh { color: #666666 } /* Literal.Number.Hex */\n",
       ".output_html .mi { color: #666666 } /* Literal.Number.Integer */\n",
       ".output_html .mo { color: #666666 } /* Literal.Number.Oct */\n",
       ".output_html .sa { color: #BA2121 } /* Literal.String.Affix */\n",
       ".output_html .sb { color: #BA2121 } /* Literal.String.Backtick */\n",
       ".output_html .sc { color: #BA2121 } /* Literal.String.Char */\n",
       ".output_html .dl { color: #BA2121 } /* Literal.String.Delimiter */\n",
       ".output_html .sd { color: #BA2121; font-style: italic } /* Literal.String.Doc */\n",
       ".output_html .s2 { color: #BA2121 } /* Literal.String.Double */\n",
       ".output_html .se { color: #BB6622; font-weight: bold } /* Literal.String.Escape */\n",
       ".output_html .sh { color: #BA2121 } /* Literal.String.Heredoc */\n",
       ".output_html .si { color: #BB6688; font-weight: bold } /* Literal.String.Interpol */\n",
       ".output_html .sx { color: #008000 } /* Literal.String.Other */\n",
       ".output_html .sr { color: #BB6688 } /* Literal.String.Regex */\n",
       ".output_html .s1 { color: #BA2121 } /* Literal.String.Single */\n",
       ".output_html .ss { color: #19177C } /* Literal.String.Symbol */\n",
       ".output_html .bp { color: #008000 } /* Name.Builtin.Pseudo */\n",
       ".output_html .fm { color: #0000FF } /* Name.Function.Magic */\n",
       ".output_html .vc { color: #19177C } /* Name.Variable.Class */\n",
       ".output_html .vg { color: #19177C } /* Name.Variable.Global */\n",
       ".output_html .vi { color: #19177C } /* Name.Variable.Instance */\n",
       ".output_html .vm { color: #19177C } /* Name.Variable.Magic */\n",
       ".output_html .il { color: #666666 } /* Literal.Number.Integer.Long */</style><div class=\"highlight\"><pre><span></span><span class=\"kn\">import</span> <span class=\"nn\">yaml</span>\n",
       "<span class=\"kn\">import</span> <span class=\"nn\">os</span>\n",
       "<span class=\"kn\">from</span> <span class=\"nn\">..greeter</span> <span class=\"kn\">import</span> <span class=\"n\">greet</span>\n",
       "\n",
       "<span class=\"k\">def</span> <span class=\"nf\">test_greeter</span><span class=\"p\">():</span>\n",
       "    <span class=\"k\">with</span> <span class=\"nb\">open</span><span class=\"p\">(</span><span class=\"n\">os</span><span class=\"o\">.</span><span class=\"n\">path</span><span class=\"o\">.</span><span class=\"n\">join</span><span class=\"p\">(</span><span class=\"n\">os</span><span class=\"o\">.</span><span class=\"n\">path</span><span class=\"o\">.</span><span class=\"n\">dirname</span><span class=\"p\">(</span><span class=\"vm\">__file__</span><span class=\"p\">),</span>\n",
       "                           <span class=\"s1\">&#39;fixtures&#39;</span><span class=\"p\">,</span>\n",
       "                           <span class=\"s1\">&#39;samples.yaml&#39;</span><span class=\"p\">))</span> <span class=\"k\">as</span> <span class=\"n\">fixtures_file</span><span class=\"p\">:</span>\n",
       "        <span class=\"n\">fixtures</span> <span class=\"o\">=</span> <span class=\"n\">yaml</span><span class=\"o\">.</span><span class=\"n\">safe_load</span><span class=\"p\">(</span><span class=\"n\">fixtures_file</span><span class=\"p\">)</span>\n",
       "        <span class=\"k\">for</span> <span class=\"n\">fixture</span> <span class=\"ow\">in</span> <span class=\"n\">fixtures</span><span class=\"p\">:</span>\n",
       "            <span class=\"n\">answer</span> <span class=\"o\">=</span> <span class=\"n\">fixture</span><span class=\"o\">.</span><span class=\"n\">pop</span><span class=\"p\">(</span><span class=\"s1\">&#39;answer&#39;</span><span class=\"p\">)</span>\n",
       "            <span class=\"k\">assert</span> <span class=\"n\">greet</span><span class=\"p\">(</span><span class=\"o\">**</span><span class=\"n\">fixture</span><span class=\"p\">)</span> <span class=\"o\">==</span> <span class=\"n\">answer</span>\n",
       "</pre></div>\n"
      ],
      "text/latex": [
       "\\begin{Verbatim}[commandchars=\\\\\\{\\}]\n",
       "\\PY{k+kn}{import} \\PY{n+nn}{yaml}\n",
       "\\PY{k+kn}{import} \\PY{n+nn}{os}\n",
       "\\PY{k+kn}{from} \\PY{n+nn}{..greeter} \\PY{k+kn}{import} \\PY{n}{greet}\n",
       "\n",
       "\\PY{k}{def} \\PY{n+nf}{test\\PYZus{}greeter}\\PY{p}{(}\\PY{p}{)}\\PY{p}{:}\n",
       "    \\PY{k}{with} \\PY{n+nb}{open}\\PY{p}{(}\\PY{n}{os}\\PY{o}{.}\\PY{n}{path}\\PY{o}{.}\\PY{n}{join}\\PY{p}{(}\\PY{n}{os}\\PY{o}{.}\\PY{n}{path}\\PY{o}{.}\\PY{n}{dirname}\\PY{p}{(}\\PY{n+nv+vm}{\\PYZus{}\\PYZus{}file\\PYZus{}\\PYZus{}}\\PY{p}{)}\\PY{p}{,}\n",
       "                           \\PY{l+s+s1}{\\PYZsq{}}\\PY{l+s+s1}{fixtures}\\PY{l+s+s1}{\\PYZsq{}}\\PY{p}{,}\n",
       "                           \\PY{l+s+s1}{\\PYZsq{}}\\PY{l+s+s1}{samples.yaml}\\PY{l+s+s1}{\\PYZsq{}}\\PY{p}{)}\\PY{p}{)} \\PY{k}{as} \\PY{n}{fixtures\\PYZus{}file}\\PY{p}{:}\n",
       "        \\PY{n}{fixtures} \\PY{o}{=} \\PY{n}{yaml}\\PY{o}{.}\\PY{n}{safe\\PYZus{}load}\\PY{p}{(}\\PY{n}{fixtures\\PYZus{}file}\\PY{p}{)}\n",
       "        \\PY{k}{for} \\PY{n}{fixture} \\PY{o+ow}{in} \\PY{n}{fixtures}\\PY{p}{:}\n",
       "            \\PY{n}{answer} \\PY{o}{=} \\PY{n}{fixture}\\PY{o}{.}\\PY{n}{pop}\\PY{p}{(}\\PY{l+s+s1}{\\PYZsq{}}\\PY{l+s+s1}{answer}\\PY{l+s+s1}{\\PYZsq{}}\\PY{p}{)}\n",
       "            \\PY{k}{assert} \\PY{n}{greet}\\PY{p}{(}\\PY{o}{*}\\PY{o}{*}\\PY{n}{fixture}\\PY{p}{)} \\PY{o}{==} \\PY{n}{answer}\n",
       "\\end{Verbatim}\n"
      ],
      "text/plain": [
       "import yaml\n",
       "import os\n",
       "from ..greeter import greet\n",
       "\n",
       "def test_greeter():\n",
       "    with open(os.path.join(os.path.dirname(__file__),\n",
       "                           'fixtures',\n",
       "                           'samples.yaml')) as fixtures_file:\n",
       "        fixtures = yaml.safe_load(fixtures_file)\n",
       "        for fixture in fixtures:\n",
       "            answer = fixture.pop('answer')\n",
       "            assert greet(**fixture) == answer"
      ]
     },
     "execution_count": 15,
     "metadata": {},
     "output_type": "execute_result"
    }
   ],
   "source": [
    "Code(\"greetings/greetings/test/test_greeter.py\")"
   ]
  },
  {
   "cell_type": "markdown",
   "metadata": {},
   "source": [
    "\n",
    "\n",
    "\n",
    "Add a fixtures file:\n",
    "\n",
    "\n",
    "\n",
    "\n",
    "\n"
   ]
  },
  {
   "cell_type": "code",
   "execution_count": 16,
   "metadata": {},
   "outputs": [
    {
     "data": {
      "text/html": [
       "<style>.output_html .hll { background-color: #ffffcc }\n",
       ".output_html  { background: #f8f8f8; }\n",
       ".output_html .c { color: #408080; font-style: italic } /* Comment */\n",
       ".output_html .err { border: 1px solid #FF0000 } /* Error */\n",
       ".output_html .k { color: #008000; font-weight: bold } /* Keyword */\n",
       ".output_html .o { color: #666666 } /* Operator */\n",
       ".output_html .ch { color: #408080; font-style: italic } /* Comment.Hashbang */\n",
       ".output_html .cm { color: #408080; font-style: italic } /* Comment.Multiline */\n",
       ".output_html .cp { color: #BC7A00 } /* Comment.Preproc */\n",
       ".output_html .cpf { color: #408080; font-style: italic } /* Comment.PreprocFile */\n",
       ".output_html .c1 { color: #408080; font-style: italic } /* Comment.Single */\n",
       ".output_html .cs { color: #408080; font-style: italic } /* Comment.Special */\n",
       ".output_html .gd { color: #A00000 } /* Generic.Deleted */\n",
       ".output_html .ge { font-style: italic } /* Generic.Emph */\n",
       ".output_html .gr { color: #FF0000 } /* Generic.Error */\n",
       ".output_html .gh { color: #000080; font-weight: bold } /* Generic.Heading */\n",
       ".output_html .gi { color: #00A000 } /* Generic.Inserted */\n",
       ".output_html .go { color: #888888 } /* Generic.Output */\n",
       ".output_html .gp { color: #000080; font-weight: bold } /* Generic.Prompt */\n",
       ".output_html .gs { font-weight: bold } /* Generic.Strong */\n",
       ".output_html .gu { color: #800080; font-weight: bold } /* Generic.Subheading */\n",
       ".output_html .gt { color: #0044DD } /* Generic.Traceback */\n",
       ".output_html .kc { color: #008000; font-weight: bold } /* Keyword.Constant */\n",
       ".output_html .kd { color: #008000; font-weight: bold } /* Keyword.Declaration */\n",
       ".output_html .kn { color: #008000; font-weight: bold } /* Keyword.Namespace */\n",
       ".output_html .kp { color: #008000 } /* Keyword.Pseudo */\n",
       ".output_html .kr { color: #008000; font-weight: bold } /* Keyword.Reserved */\n",
       ".output_html .kt { color: #B00040 } /* Keyword.Type */\n",
       ".output_html .m { color: #666666 } /* Literal.Number */\n",
       ".output_html .s { color: #BA2121 } /* Literal.String */\n",
       ".output_html .na { color: #7D9029 } /* Name.Attribute */\n",
       ".output_html .nb { color: #008000 } /* Name.Builtin */\n",
       ".output_html .nc { color: #0000FF; font-weight: bold } /* Name.Class */\n",
       ".output_html .no { color: #880000 } /* Name.Constant */\n",
       ".output_html .nd { color: #AA22FF } /* Name.Decorator */\n",
       ".output_html .ni { color: #999999; font-weight: bold } /* Name.Entity */\n",
       ".output_html .ne { color: #D2413A; font-weight: bold } /* Name.Exception */\n",
       ".output_html .nf { color: #0000FF } /* Name.Function */\n",
       ".output_html .nl { color: #A0A000 } /* Name.Label */\n",
       ".output_html .nn { color: #0000FF; font-weight: bold } /* Name.Namespace */\n",
       ".output_html .nt { color: #008000; font-weight: bold } /* Name.Tag */\n",
       ".output_html .nv { color: #19177C } /* Name.Variable */\n",
       ".output_html .ow { color: #AA22FF; font-weight: bold } /* Operator.Word */\n",
       ".output_html .w { color: #bbbbbb } /* Text.Whitespace */\n",
       ".output_html .mb { color: #666666 } /* Literal.Number.Bin */\n",
       ".output_html .mf { color: #666666 } /* Literal.Number.Float */\n",
       ".output_html .mh { color: #666666 } /* Literal.Number.Hex */\n",
       ".output_html .mi { color: #666666 } /* Literal.Number.Integer */\n",
       ".output_html .mo { color: #666666 } /* Literal.Number.Oct */\n",
       ".output_html .sa { color: #BA2121 } /* Literal.String.Affix */\n",
       ".output_html .sb { color: #BA2121 } /* Literal.String.Backtick */\n",
       ".output_html .sc { color: #BA2121 } /* Literal.String.Char */\n",
       ".output_html .dl { color: #BA2121 } /* Literal.String.Delimiter */\n",
       ".output_html .sd { color: #BA2121; font-style: italic } /* Literal.String.Doc */\n",
       ".output_html .s2 { color: #BA2121 } /* Literal.String.Double */\n",
       ".output_html .se { color: #BB6622; font-weight: bold } /* Literal.String.Escape */\n",
       ".output_html .sh { color: #BA2121 } /* Literal.String.Heredoc */\n",
       ".output_html .si { color: #BB6688; font-weight: bold } /* Literal.String.Interpol */\n",
       ".output_html .sx { color: #008000 } /* Literal.String.Other */\n",
       ".output_html .sr { color: #BB6688 } /* Literal.String.Regex */\n",
       ".output_html .s1 { color: #BA2121 } /* Literal.String.Single */\n",
       ".output_html .ss { color: #19177C } /* Literal.String.Symbol */\n",
       ".output_html .bp { color: #008000 } /* Name.Builtin.Pseudo */\n",
       ".output_html .fm { color: #0000FF } /* Name.Function.Magic */\n",
       ".output_html .vc { color: #19177C } /* Name.Variable.Class */\n",
       ".output_html .vg { color: #19177C } /* Name.Variable.Global */\n",
       ".output_html .vi { color: #19177C } /* Name.Variable.Instance */\n",
       ".output_html .vm { color: #19177C } /* Name.Variable.Magic */\n",
       ".output_html .il { color: #666666 } /* Literal.Number.Integer.Long */</style><div class=\"highlight\"><pre><span></span><span class=\"p p-Indicator\">-</span> <span class=\"nt\">personal</span><span class=\"p\">:</span> <span class=\"l l-Scalar l-Scalar-Plain\">Eric</span>\n",
       "  <span class=\"nt\">family</span><span class=\"p\">:</span> <span class=\"l l-Scalar l-Scalar-Plain\">Idle</span>\n",
       "  <span class=\"nt\">answer</span><span class=\"p\">:</span> <span class=\"s\">&quot;Hey,</span><span class=\"nv\"> </span><span class=\"s\">Eric</span><span class=\"nv\"> </span><span class=\"s\">Idle.&quot;</span>\n",
       "<span class=\"p p-Indicator\">-</span> <span class=\"nt\">personal</span><span class=\"p\">:</span> <span class=\"l l-Scalar l-Scalar-Plain\">Graham</span>\n",
       "  <span class=\"nt\">family</span><span class=\"p\">:</span> <span class=\"l l-Scalar l-Scalar-Plain\">Chapman</span>\n",
       "  <span class=\"nt\">polite</span><span class=\"p\">:</span> <span class=\"l l-Scalar l-Scalar-Plain\">True</span>\n",
       "  <span class=\"nt\">answer</span><span class=\"p\">:</span> <span class=\"s\">&quot;How</span><span class=\"nv\"> </span><span class=\"s\">do</span><span class=\"nv\"> </span><span class=\"s\">you</span><span class=\"nv\"> </span><span class=\"s\">do,</span><span class=\"nv\"> </span><span class=\"s\">Graahm</span><span class=\"nv\"> </span><span class=\"s\">Chapman.&quot;</span>\n",
       "<span class=\"p p-Indicator\">-</span> <span class=\"nt\">personal</span><span class=\"p\">:</span> <span class=\"l l-Scalar l-Scalar-Plain\">Michael</span>\n",
       "  <span class=\"nt\">family</span><span class=\"p\">:</span> <span class=\"l l-Scalar l-Scalar-Plain\">Palin</span>\n",
       "  <span class=\"nt\">title</span><span class=\"p\">:</span> <span class=\"l l-Scalar l-Scalar-Plain\">CBE</span>\n",
       "  <span class=\"nt\">answer</span><span class=\"p\">:</span> <span class=\"s\">&quot;Hey,</span><span class=\"nv\"> </span><span class=\"s\">CBE</span><span class=\"nv\"> </span><span class=\"s\">Mike</span><span class=\"nv\"> </span><span class=\"s\">Palin.&quot;</span>\n",
       "</pre></div>\n"
      ],
      "text/latex": [
       "\\begin{Verbatim}[commandchars=\\\\\\{\\}]\n",
       "\\PY{p+pIndicator}{\\PYZhy{}} \\PY{n+nt}{personal}\\PY{p}{:} \\PY{l+lScalar+lScalarPlain}{Eric}\n",
       "  \\PY{n+nt}{family}\\PY{p}{:} \\PY{l+lScalar+lScalarPlain}{Idle}\n",
       "  \\PY{n+nt}{answer}\\PY{p}{:} \\PY{l+s}{\\PYZdq{}}\\PY{l+s}{Hey,}\\PY{n+nv}{ }\\PY{l+s}{Eric}\\PY{n+nv}{ }\\PY{l+s}{Idle.}\\PY{l+s}{\\PYZdq{}}\n",
       "\\PY{p+pIndicator}{\\PYZhy{}} \\PY{n+nt}{personal}\\PY{p}{:} \\PY{l+lScalar+lScalarPlain}{Graham}\n",
       "  \\PY{n+nt}{family}\\PY{p}{:} \\PY{l+lScalar+lScalarPlain}{Chapman}\n",
       "  \\PY{n+nt}{polite}\\PY{p}{:} \\PY{l+lScalar+lScalarPlain}{True}\n",
       "  \\PY{n+nt}{answer}\\PY{p}{:} \\PY{l+s}{\\PYZdq{}}\\PY{l+s}{How}\\PY{n+nv}{ }\\PY{l+s}{do}\\PY{n+nv}{ }\\PY{l+s}{you}\\PY{n+nv}{ }\\PY{l+s}{do,}\\PY{n+nv}{ }\\PY{l+s}{Graahm}\\PY{n+nv}{ }\\PY{l+s}{Chapman.}\\PY{l+s}{\\PYZdq{}}\n",
       "\\PY{p+pIndicator}{\\PYZhy{}} \\PY{n+nt}{personal}\\PY{p}{:} \\PY{l+lScalar+lScalarPlain}{Michael}\n",
       "  \\PY{n+nt}{family}\\PY{p}{:} \\PY{l+lScalar+lScalarPlain}{Palin}\n",
       "  \\PY{n+nt}{title}\\PY{p}{:} \\PY{l+lScalar+lScalarPlain}{CBE}\n",
       "  \\PY{n+nt}{answer}\\PY{p}{:} \\PY{l+s}{\\PYZdq{}}\\PY{l+s}{Hey,}\\PY{n+nv}{ }\\PY{l+s}{CBE}\\PY{n+nv}{ }\\PY{l+s}{Mike}\\PY{n+nv}{ }\\PY{l+s}{Palin.}\\PY{l+s}{\\PYZdq{}}\n",
       "\\end{Verbatim}\n"
      ],
      "text/plain": [
       "- personal: Eric\n",
       "  family: Idle\n",
       "  answer: \"Hey, Eric Idle.\"\n",
       "- personal: Graham\n",
       "  family: Chapman\n",
       "  polite: True\n",
       "  answer: \"How do you do, Graahm Chapman.\"\n",
       "- personal: Michael\n",
       "  family: Palin\n",
       "  title: CBE\n",
       "  answer: \"Hey, CBE Mike Palin.\""
      ]
     },
     "execution_count": 16,
     "metadata": {},
     "output_type": "execute_result"
    }
   ],
   "source": [
    "Code(\"greetings/greetings/test/fixtures/samples.yaml\")"
   ]
  },
  {
   "cell_type": "code",
   "execution_count": 17,
   "metadata": {
    "collapsed": false
   },
   "outputs": [
    {
     "name": "stdout",
     "output_type": "stream",
     "text": [
      "============================= test session starts ==============================\n",
      "platform linux -- Python 3.7.3, pytest-5.1.1, py-1.8.0, pluggy-0.12.0\n",
      "rootdir: /home/dvd/Documents/Work/RSDG/Projects/Teaching/rsd-engineeringcourse/ch04packaging\n",
      "collected 1 item\n",
      "\n",
      "greetings/greetings/test/test_greeter.py F                               [100%]\n",
      "\n",
      "=================================== FAILURES ===================================\n",
      "_________________________________ test_greeter _________________________________\n",
      "\n",
      "    def test_greeter():\n",
      "        with open(os.path.join(os.path.dirname(__file__),\n",
      "                               'fixtures',\n",
      "                               'samples.yaml')) as fixtures_file:\n",
      "            fixtures = yaml.safe_load(fixtures_file)\n",
      "            for fixture in fixtures:\n",
      "                answer = fixture.pop('answer')\n",
      ">               assert greet(**fixture) == answer\n",
      "E               AssertionError: assert 'How do you d...aham Chapman.' == 'How do you d...aahm Chapman.'\n",
      "E                 - How do you do, Graham Chapman.\n",
      "E                 ?                    -\n",
      "E                 + How do you do, Graahm Chapman.\n",
      "E                 ?                   +\n",
      "\n",
      "greetings/greetings/test/test_greeter.py:12: AssertionError\n",
      "============================== 1 failed in 0.08s ===============================\n"
     ]
    }
   ],
   "source": [
    "%%bash --no-raise-error\n",
    "pytest"
   ]
  },
  {
   "cell_type": "markdown",
   "metadata": {},
   "source": [
    "However, this hasn't told us that also the third test is wrong! A better aproach is to parametrize the test as follows:"
   ]
  },
  {
   "cell_type": "code",
   "execution_count": 18,
   "metadata": {},
   "outputs": [
    {
     "name": "stdout",
     "output_type": "stream",
     "text": [
      "Overwriting greetings/greetings/test/test_greeter.py\n"
     ]
    }
   ],
   "source": [
    "%%writefile greetings/greetings/test/test_greeter.py\n",
    "import yaml\n",
    "import os\n",
    "import pytest\n",
    "from ..greeter import greet\n",
    "\n",
    "def read_fixture():\n",
    "    with open(os.path.join(os.path.dirname(__file__),\n",
    "                           'fixtures',\n",
    "                           'samples.yaml')) as fixtures_file:\n",
    "        fixtures = yaml.safe_load(fixtures_file)\n",
    "    return fixtures\n",
    "\n",
    "@pytest.mark.parametrize(\"fixture\", read_fixture())\n",
    "def test_greeter(fixture):\n",
    "    answer = fixture.pop('answer')\n",
    "    assert greet(**fixture) == answer\n"
   ]
  },
  {
   "cell_type": "markdown",
   "metadata": {},
   "source": [
    "Now when we run `pytest`, we get a failure per element in our fixture and we know all that fails."
   ]
  },
  {
   "cell_type": "code",
   "execution_count": 19,
   "metadata": {},
   "outputs": [
    {
     "name": "stdout",
     "output_type": "stream",
     "text": [
      "============================= test session starts ==============================\n",
      "platform linux -- Python 3.7.3, pytest-5.1.1, py-1.8.0, pluggy-0.12.0\n",
      "rootdir: /home/dvd/Documents/Work/RSDG/Projects/Teaching/rsd-engineeringcourse/ch04packaging\n",
      "collected 3 items\n",
      "\n",
      "greetings/greetings/test/test_greeter.py .FF                             [100%]\n",
      "\n",
      "=================================== FAILURES ===================================\n",
      "____________________________ test_greeter[fixture1] ____________________________\n",
      "\n",
      "fixture = {'family': 'Chapman', 'personal': 'Graham', 'polite': True}\n",
      "\n",
      "    @pytest.mark.parametrize(\"fixture\", read_fixture())\n",
      "    def test_greeter(fixture):\n",
      "        answer = fixture.pop('answer')\n",
      ">       assert greet(**fixture) == answer\n",
      "E       AssertionError: assert 'How do you d...aham Chapman.' == 'How do you d...aahm Chapman.'\n",
      "E         - How do you do, Graham Chapman.\n",
      "E         ?                    -\n",
      "E         + How do you do, Graahm Chapman.\n",
      "E         ?                   +\n",
      "\n",
      "greetings/greetings/test/test_greeter.py:16: AssertionError\n",
      "____________________________ test_greeter[fixture2] ____________________________\n",
      "\n",
      "fixture = {'family': 'Palin', 'personal': 'Michael', 'title': 'CBE'}\n",
      "\n",
      "    @pytest.mark.parametrize(\"fixture\", read_fixture())\n",
      "    def test_greeter(fixture):\n",
      "        answer = fixture.pop('answer')\n",
      ">       assert greet(**fixture) == answer\n",
      "E       AssertionError: assert 'Hey, CBE Michael Palin.' == 'Hey, CBE Mike Palin.'\n",
      "E         - Hey, CBE Michael Palin.\n",
      "E         ?            ^^^ -\n",
      "E         + Hey, CBE Mike Palin.\n",
      "E         ?            ^\n",
      "\n",
      "greetings/greetings/test/test_greeter.py:16: AssertionError\n",
      "========================= 2 failed, 1 passed in 0.09s ==========================\n"
     ]
    }
   ],
   "source": [
    "%%bash --no-raise-error\n",
    "pytest"
   ]
  },
  {
   "cell_type": "markdown",
   "metadata": {},
   "source": [
    "We can also make pytest to check whether the docstrings are correct by adding the `--doctest-modules` flag:"
   ]
  },
  {
   "cell_type": "code",
   "execution_count": 20,
   "metadata": {},
   "outputs": [
    {
     "name": "stdout",
     "output_type": "stream",
     "text": [
      "============================= test session starts ==============================\n",
      "platform linux -- Python 3.7.3, pytest-5.1.1, py-1.8.0, pluggy-0.12.0\n",
      "rootdir: /home/dvd/Documents/Work/RSDG/Projects/Teaching/rsd-engineeringcourse/ch04packaging\n",
      "plugins: cov-2.8.1\n",
      "collected 4 items\n",
      "\n",
      "greetings/greetings/greeter.py F                                         [ 25%]\n",
      "greetings/greetings/test/test_greeter.py .FF                             [100%]\n",
      "\n",
      "=================================== FAILURES ===================================\n",
      "______________________ [doctest] greetings.greeter.greet _______________________\n",
      "014 \n",
      "015     Returns\n",
      "016     -------\n",
      "017     string\n",
      "018         An appropriate greeting\n",
      "019 \n",
      "020     Examples\n",
      "021     --------\n",
      "022     >>> from greetings.greeter import greet\n",
      "023     >>> greet(\"Terry\", \"Jones\")\n",
      "Expected:\n",
      "    'Hey, Terry Jones.\n",
      "Got:\n",
      "    'Hey, Terry Jones.'\n",
      "\n",
      "/home/dvd/Documents/Work/RSDG/Projects/Teaching/rsd-engineeringcourse/ch04packaging/greetings/greetings/greeter.py:23: DocTestFailure\n",
      "____________________________ test_greeter[fixture1] ____________________________\n",
      "\n",
      "fixture = {'family': 'Chapman', 'personal': 'Graham', 'polite': True}\n",
      "\n",
      "    @pytest.mark.parametrize(\"fixture\", read_fixture())\n",
      "    def test_greeter(fixture):\n",
      "        answer = fixture.pop('answer')\n",
      ">       assert greet(**fixture) == answer\n",
      "E       AssertionError: assert 'How do you d...aham Chapman.' == 'How do you d...aahm Chapman.'\n",
      "E         - How do you do, Graham Chapman.\n",
      "E         ?                    -\n",
      "E         + How do you do, Graahm Chapman.\n",
      "E         ?                   +\n",
      "\n",
      "greetings/greetings/test/test_greeter.py:16: AssertionError\n",
      "____________________________ test_greeter[fixture2] ____________________________\n",
      "\n",
      "fixture = {'family': 'Palin', 'personal': 'Michael', 'title': 'CBE'}\n",
      "\n",
      "    @pytest.mark.parametrize(\"fixture\", read_fixture())\n",
      "    def test_greeter(fixture):\n",
      "        answer = fixture.pop('answer')\n",
      ">       assert greet(**fixture) == answer\n",
      "E       AssertionError: assert 'Hey, CBE Michael Palin.' == 'Hey, CBE Mike Palin.'\n",
      "E         - Hey, CBE Michael Palin.\n",
      "E         ?            ^^^ -\n",
      "E         + Hey, CBE Mike Palin.\n",
      "E         ?            ^\n",
      "\n",
      "greetings/greetings/test/test_greeter.py:16: AssertionError\n",
      "========================= 3 failed, 1 passed in 0.09s ==========================\n"
     ]
    }
   ],
   "source": [
    "%%bash --no-raise-error\n",
    "pytest --doctest-modules"
   ]
  },
  {
   "cell_type": "markdown",
   "metadata": {},
   "source": [
    "### Developer Install"
   ]
  },
  {
   "cell_type": "markdown",
   "metadata": {},
   "source": [
    "\n",
    "If you modify your source files, you would now find it appeared as if the program doesn't change.\n",
    "\n",
    "That's because pip install **copies** the files.\n",
    "\n",
    "If you want to install a package, but keep working on it, you can do:"
   ]
  },
  {
   "cell_type": "markdown",
   "metadata": {},
   "source": [
    "```\n",
    "pip install --editable .\n",
    "```"
   ]
  },
  {
   "cell_type": "markdown",
   "metadata": {},
   "source": [
    "### Distributing compiled code"
   ]
  },
  {
   "cell_type": "markdown",
   "metadata": {},
   "source": [
    "\n",
    "If you're working in C++ or Fortran, there is no language specific repository.\n",
    "You'll need to write platform installers for as many platforms as you want to\n",
    "support.\n",
    "\n",
    "Typically:\n",
    "\n",
    "* `dpkg` for `apt-get` on Ubuntu and Debian\n",
    "* `rpm` for `yum`/`dnf` on Redhat and Fedora\n",
    "* `homebrew` on OSX (Possibly `macports` as well)\n",
    "* An executable `msi` installer for Windows.\n"
   ]
  },
  {
   "cell_type": "markdown",
   "metadata": {},
   "source": [
    "#### Homebrew"
   ]
  },
  {
   "cell_type": "markdown",
   "metadata": {},
   "source": [
    "\n",
    "Homebrew: A ruby DSL, you host off your own webpage\n",
    "\n",
    "See an [installer for the cppcourse example](http://github.com/jamespjh/homebrew-reactor)\n",
    "\n",
    "If you're on OSX, do:\n"
   ]
  },
  {
   "cell_type": "markdown",
   "metadata": {},
   "source": [
    "```\n",
    "brew tap jamespjh/homebrew-reactor\n",
    "brew install reactor\n",
    "```"
   ]
  }
 ],
 "metadata": {
  "jekyll": {
   "display_name": "Packaging"
  },
  "kernelspec": {
   "display_name": "Python 3",
   "language": "python",
   "name": "python3"
  },
  "language_info": {
   "codemirror_mode": {
    "name": "ipython",
    "version": 3
   },
   "file_extension": ".py",
   "mimetype": "text/x-python",
   "name": "python",
   "nbconvert_exporter": "python",
   "pygments_lexer": "ipython3",
   "version": "3.7.3"
  },
  "widgets": {
   "state": {},
   "version": "1.1.2"
  }
 },
 "nbformat": 4,
 "nbformat_minor": 1
}
